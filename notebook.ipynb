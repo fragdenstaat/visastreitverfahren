{
 "cells": [
  {
   "cell_type": "code",
   "execution_count": 1,
   "metadata": {
    "colab": {
     "base_uri": "https://localhost:8080/"
    },
    "id": "VJYccBCP0Pi-",
    "outputId": "006d2b43-af4c-4c18-965a-084ccafd9631"
   },
   "outputs": [],
   "source": [
    "from datetime import datetime\n",
    "\n",
    "import pandas as pd\n",
    "import numpy as np\n",
    "import altair as alt\n",
    "import iso3166\n",
    "\n",
    "pd.set_option('display.max_columns', 30)\n",
    "pd.set_option('display.max_rows', 200)\n",
    "\n",
    "# Uncomment this and cells with altair charts\n",
    "# Disabled by default to keep notebook size small\n",
    "# alt.data_transformers.disable_max_rows()"
   ]
  },
  {
   "cell_type": "code",
   "execution_count": 2,
   "metadata": {
    "id": "dCjngVKe0Plt"
   },
   "outputs": [],
   "source": [
    "AUSGANGS_MAPPING = {\n",
    "    'A': 'A: Klage abgewiesen',\n",
    "    'B': 'B: Berufung abgelehnt',\n",
    "    'C': 'C: Verfahren ohne Visum eingestellt, wahrscheinlich Visum später',\n",
    "    'D': 'D: Verfahren eingestellt bzw. Vergleich mit Visum',\n",
    "    'E': 'E: Teilweise Aufhebung',\n",
    "    'F': 'F: Verpflichtung zur Visumserteilung',\n",
    "    'G': 'G: Erledigung mit Visumserteilung',\n",
    "    'H': 'H: Berufungsrücknahme durch AA',\n",
    "    'I': 'I: Aufhebung',\n",
    "    'J': 'J: Verfahreneinstellung ohne Visum',\n",
    "    'K': 'K: Beschwerde von AA wird stattgegeben'\n",
    "}"
   ]
  },
  {
   "cell_type": "markdown",
   "metadata": {},
   "source": [
    "## Daten laden und säubern"
   ]
  },
  {
   "cell_type": "code",
   "execution_count": 3,
   "metadata": {
    "colab": {
     "base_uri": "https://localhost:8080/",
     "height": 236
    },
    "id": "UXAhKwnl0Plu",
    "outputId": "ed5c1209-0b9e-4c90-bbda-f85f6f7aa7ab"
   },
   "outputs": [
    {
     "data": {
      "text/html": [
       "<div>\n",
       "<style scoped>\n",
       "    .dataframe tbody tr th:only-of-type {\n",
       "        vertical-align: middle;\n",
       "    }\n",
       "\n",
       "    .dataframe tbody tr th {\n",
       "        vertical-align: top;\n",
       "    }\n",
       "\n",
       "    .dataframe thead th {\n",
       "        text-align: right;\n",
       "    }\n",
       "</style>\n",
       "<table border=\"1\" class=\"dataframe\">\n",
       "  <thead>\n",
       "    <tr style=\"text-align: right;\">\n",
       "      <th></th>\n",
       "      <th>LFD_NR</th>\n",
       "      <th>VG AZ</th>\n",
       "      <th>EingangsDatum</th>\n",
       "      <th>Lnderkrzel</th>\n",
       "      <th>Vertretung</th>\n",
       "      <th>Grund</th>\n",
       "      <th>_Zusatz</th>\n",
       "      <th>Statistik</th>\n",
       "      <th>Statistk vom</th>\n",
       "      <th>Gz_OVG</th>\n",
       "      <th>Ausgang OVG</th>\n",
       "      <th>Datum OVG_</th>\n",
       "      <th>Gz PKH Beschwerde</th>\n",
       "      <th>Ausgang PKH</th>\n",
       "      <th>Datum PKH_</th>\n",
       "      <th>Gz_BVerwG</th>\n",
       "      <th>Ausgang BVerwG</th>\n",
       "      <th>Datum BVerwG_</th>\n",
       "    </tr>\n",
       "  </thead>\n",
       "  <tbody>\n",
       "    <tr>\n",
       "      <th>4050</th>\n",
       "      <td>29455</td>\n",
       "      <td>VG 36 V 45.08</td>\n",
       "      <td>31-Jul-08</td>\n",
       "      <td>TGO</td>\n",
       "      <td>NaN</td>\n",
       "      <td>FZ-E</td>\n",
       "      <td>NaN</td>\n",
       "      <td>D</td>\n",
       "      <td>##############################################...</td>\n",
       "      <td>NaN</td>\n",
       "      <td>NaN</td>\n",
       "      <td>NaN</td>\n",
       "      <td>NaN</td>\n",
       "      <td>NaN</td>\n",
       "      <td>NaN</td>\n",
       "      <td>NaN</td>\n",
       "      <td>NaN</td>\n",
       "      <td>NaN</td>\n",
       "    </tr>\n",
       "  </tbody>\n",
       "</table>\n",
       "</div>"
      ],
      "text/plain": [
       "      LFD_NR          VG AZ EingangsDatum Lnderkrzel Vertretung Grund  \\\n",
       "4050   29455  VG 36 V 45.08     31-Jul-08          TGO        NaN  FZ-E   \n",
       "\n",
       "     _Zusatz Statistik                                       Statistk vom  \\\n",
       "4050     NaN         D  ##############################################...   \n",
       "\n",
       "     Gz_OVG Ausgang OVG Datum OVG_ Gz PKH Beschwerde Ausgang PKH Datum PKH_  \\\n",
       "4050    NaN         NaN        NaN               NaN         NaN        NaN   \n",
       "\n",
       "     Gz_BVerwG Ausgang BVerwG Datum BVerwG_  \n",
       "4050       NaN            NaN           NaN  "
      ]
     },
     "execution_count": 3,
     "metadata": {},
     "output_type": "execute_result"
    }
   ],
   "source": [
    "filename = 'Asyl-Streitverfahren_STATISTIK_3. Q 2020.csv'\n",
    "df = pd.read_csv(filename, encoding='ISO8859-1', delimiter=';')\n",
    "df[df['Statistk vom'].str.contains('#').fillna(False)]"
   ]
  },
  {
   "cell_type": "code",
   "execution_count": 4,
   "metadata": {
    "colab": {
     "base_uri": "https://localhost:8080/",
     "height": 486
    },
    "id": "tWI1fTM80Pl1",
    "outputId": "9cf2f408-61ef-4a87-d783-e13526874e3c"
   },
   "outputs": [
    {
     "name": "stdout",
     "output_type": "stream",
     "text": [
      "###############################################################################################################################################################################################################################################################\n",
      "###############################################################################################################################################################################################################################################################\n",
      "00-Jan-00\n",
      "00-Jan-00\n"
     ]
    },
    {
     "data": {
      "text/html": [
       "<div>\n",
       "<style scoped>\n",
       "    .dataframe tbody tr th:only-of-type {\n",
       "        vertical-align: middle;\n",
       "    }\n",
       "\n",
       "    .dataframe tbody tr th {\n",
       "        vertical-align: top;\n",
       "    }\n",
       "\n",
       "    .dataframe thead th {\n",
       "        text-align: right;\n",
       "    }\n",
       "</style>\n",
       "<table border=\"1\" class=\"dataframe\">\n",
       "  <thead>\n",
       "    <tr style=\"text-align: right;\">\n",
       "      <th></th>\n",
       "      <th>LFD_NR</th>\n",
       "      <th>VG AZ</th>\n",
       "      <th>EingangsDatum</th>\n",
       "      <th>country</th>\n",
       "      <th>Vertretung</th>\n",
       "      <th>Grund</th>\n",
       "      <th>_Zusatz</th>\n",
       "      <th>Statistik</th>\n",
       "      <th>Statistk vom</th>\n",
       "      <th>Gz_OVG</th>\n",
       "      <th>Ausgang OVG</th>\n",
       "      <th>Datum OVG_</th>\n",
       "      <th>Gz PKH Beschwerde</th>\n",
       "      <th>Ausgang PKH</th>\n",
       "      <th>Datum PKH_</th>\n",
       "      <th>Gz_BVerwG</th>\n",
       "      <th>Ausgang BVerwG</th>\n",
       "      <th>Datum BVerwG_</th>\n",
       "    </tr>\n",
       "  </thead>\n",
       "  <tbody>\n",
       "    <tr>\n",
       "      <th>0</th>\n",
       "      <td>25370</td>\n",
       "      <td>VG 29 A 20.07</td>\n",
       "      <td>2007-01-03</td>\n",
       "      <td>UKR</td>\n",
       "      <td>NaN</td>\n",
       "      <td>?</td>\n",
       "      <td>NaN</td>\n",
       "      <td>NaN</td>\n",
       "      <td>NaT</td>\n",
       "      <td>NaN</td>\n",
       "      <td>NaN</td>\n",
       "      <td>NaT</td>\n",
       "      <td>NaN</td>\n",
       "      <td>NaN</td>\n",
       "      <td>NaT</td>\n",
       "      <td>NaN</td>\n",
       "      <td>NaN</td>\n",
       "      <td>NaT</td>\n",
       "    </tr>\n",
       "    <tr>\n",
       "      <th>1</th>\n",
       "      <td>25371</td>\n",
       "      <td>VG 25 V 82.06&gt; VG 02 V 44.07</td>\n",
       "      <td>2007-01-03</td>\n",
       "      <td>PAK</td>\n",
       "      <td>NaN</td>\n",
       "      <td>?</td>\n",
       "      <td>NaN</td>\n",
       "      <td>NaN</td>\n",
       "      <td>NaT</td>\n",
       "      <td>NaN</td>\n",
       "      <td>NaN</td>\n",
       "      <td>NaT</td>\n",
       "      <td>NaN</td>\n",
       "      <td>NaN</td>\n",
       "      <td>NaT</td>\n",
       "      <td>NaN</td>\n",
       "      <td>NaN</td>\n",
       "      <td>NaT</td>\n",
       "    </tr>\n",
       "    <tr>\n",
       "      <th>2</th>\n",
       "      <td>25372</td>\n",
       "      <td>VG 18 V 77.06</td>\n",
       "      <td>2007-01-03</td>\n",
       "      <td>TUR</td>\n",
       "      <td>NaN</td>\n",
       "      <td>?</td>\n",
       "      <td>NaN</td>\n",
       "      <td>NaN</td>\n",
       "      <td>NaT</td>\n",
       "      <td>NaN</td>\n",
       "      <td>NaN</td>\n",
       "      <td>NaT</td>\n",
       "      <td>NaN</td>\n",
       "      <td>NaN</td>\n",
       "      <td>NaT</td>\n",
       "      <td>NaN</td>\n",
       "      <td>NaN</td>\n",
       "      <td>NaT</td>\n",
       "    </tr>\n",
       "    <tr>\n",
       "      <th>3</th>\n",
       "      <td>25373</td>\n",
       "      <td>VG 18 V 78.06</td>\n",
       "      <td>2007-01-03</td>\n",
       "      <td>SRB</td>\n",
       "      <td>NaN</td>\n",
       "      <td>?</td>\n",
       "      <td>NaN</td>\n",
       "      <td>NaN</td>\n",
       "      <td>NaT</td>\n",
       "      <td>NaN</td>\n",
       "      <td>NaN</td>\n",
       "      <td>NaT</td>\n",
       "      <td>NaN</td>\n",
       "      <td>NaN</td>\n",
       "      <td>NaT</td>\n",
       "      <td>NaN</td>\n",
       "      <td>NaN</td>\n",
       "      <td>NaT</td>\n",
       "    </tr>\n",
       "    <tr>\n",
       "      <th>4</th>\n",
       "      <td>25374</td>\n",
       "      <td>VG 18 V 79.06</td>\n",
       "      <td>2007-01-03</td>\n",
       "      <td>SRB</td>\n",
       "      <td>NaN</td>\n",
       "      <td>?</td>\n",
       "      <td>NaN</td>\n",
       "      <td>NaN</td>\n",
       "      <td>NaT</td>\n",
       "      <td>NaN</td>\n",
       "      <td>NaN</td>\n",
       "      <td>NaT</td>\n",
       "      <td>NaN</td>\n",
       "      <td>NaN</td>\n",
       "      <td>NaT</td>\n",
       "      <td>NaN</td>\n",
       "      <td>NaN</td>\n",
       "      <td>NaT</td>\n",
       "    </tr>\n",
       "  </tbody>\n",
       "</table>\n",
       "</div>"
      ],
      "text/plain": [
       "   LFD_NR                         VG AZ EingangsDatum country Vertretung  \\\n",
       "0   25370                 VG 29 A 20.07    2007-01-03     UKR        NaN   \n",
       "1   25371  VG 25 V 82.06> VG 02 V 44.07    2007-01-03     PAK        NaN   \n",
       "2   25372                 VG 18 V 77.06    2007-01-03     TUR        NaN   \n",
       "3   25373                 VG 18 V 78.06    2007-01-03     SRB        NaN   \n",
       "4   25374                 VG 18 V 79.06    2007-01-03     SRB        NaN   \n",
       "\n",
       "  Grund _Zusatz Statistik Statistk vom Gz_OVG Ausgang OVG Datum OVG_  \\\n",
       "0     ?     NaN       NaN          NaT    NaN         NaN        NaT   \n",
       "1     ?     NaN       NaN          NaT    NaN         NaN        NaT   \n",
       "2     ?     NaN       NaN          NaT    NaN         NaN        NaT   \n",
       "3     ?     NaN       NaN          NaT    NaN         NaN        NaT   \n",
       "4     ?     NaN       NaN          NaT    NaN         NaN        NaT   \n",
       "\n",
       "  Gz PKH Beschwerde Ausgang PKH Datum PKH_ Gz_BVerwG Ausgang BVerwG  \\\n",
       "0               NaN         NaN        NaT       NaN            NaN   \n",
       "1               NaN         NaN        NaT       NaN            NaN   \n",
       "2               NaN         NaN        NaT       NaN            NaN   \n",
       "3               NaN         NaN        NaT       NaN            NaN   \n",
       "4               NaN         NaN        NaT       NaN            NaN   \n",
       "\n",
       "  Datum BVerwG_  \n",
       "0           NaT  \n",
       "1           NaT  \n",
       "2           NaT  \n",
       "3           NaT  \n",
       "4           NaT  "
      ]
     },
     "execution_count": 4,
     "metadata": {},
     "output_type": "execute_result"
    }
   ],
   "source": [
    "date_mapping = {\n",
    "    'Mär': 'Mar',\n",
    "    'Mai': 'May',\n",
    "    'Okt': 'Oct',\n",
    "    'Dez': 'Dec'\n",
    "}\n",
    "\n",
    "\n",
    "def make_date(x):\n",
    "    if pd.isnull(x):\n",
    "        return x\n",
    "    \n",
    "    x = x.replace('Mrz', 'Mär')\n",
    "    for k, v in date_mapping.items():\n",
    "      x = x.replace(k, v)\n",
    "    try:\n",
    "        return datetime.strptime(x, \"%d-%b-%y\")\n",
    "    except ValueError:\n",
    "        print(x)\n",
    "    return np.nan\n",
    "\n",
    "date_cols = ['EingangsDatum', 'Datum PKH_', 'Statistk vom', 'Datum OVG_', 'Datum BVerwG_']\n",
    "\n",
    "df = pd.read_csv(filename, encoding='ISO8859-15', delimiter=';', parse_dates=date_cols,\n",
    "                date_parser=make_date)\n",
    "df = df.rename(columns={\n",
    "    'Lnderkrzel': 'country',\n",
    "})\n",
    "df.head()"
   ]
  },
  {
   "cell_type": "code",
   "execution_count": 5,
   "metadata": {
    "id": "3HpWHPWV0Pl3"
   },
   "outputs": [],
   "source": [
    "EXCLUDES = []"
   ]
  },
  {
   "cell_type": "code",
   "execution_count": 6,
   "metadata": {
    "id": "Y2nlux_X0Pl4"
   },
   "outputs": [],
   "source": [
    "EXCLUDES.append(((df['EingangsDatum'].dt.year < 2007), \"Jahr vor 2007 bei Eingangsdatum\"))\n",
    "EXCLUDES.append(((df['Datum PKH_'].dt.year < 2007), \"Jahr vor 2007 bei PKH\"))\n",
    "EXCLUDES.append(((df['Statistk vom'].dt.date > datetime.now().date()), \"Statistik Datum nach heute\"))"
   ]
  },
  {
   "cell_type": "code",
   "execution_count": 7,
   "metadata": {
    "colab": {
     "base_uri": "https://localhost:8080/"
    },
    "id": "QG2gwHAf0PmA",
    "outputId": "07a666c2-144e-49c8-8692-8ff8ea1160c8"
   },
   "outputs": [
    {
     "data": {
      "text/plain": [
       "31176"
      ]
     },
     "execution_count": 7,
     "metadata": {},
     "output_type": "execute_result"
    }
   ],
   "source": [
    "len(df)"
   ]
  },
  {
   "cell_type": "code",
   "execution_count": 8,
   "metadata": {
    "id": "CFOKmTCn0PmA"
   },
   "outputs": [],
   "source": [
    "COUNTRIES = list(iso3166.countries_by_alpha3.keys()) + ['KOS', 'SCG', ]\n",
    "COUNTRY_NAMES = {k: v.name for k, v in iso3166.countries_by_alpha3.items()}\n",
    "COUNTRY_NAMES['KOS'] = 'Kosovo'\n",
    "COUNTRY_NAMES['SCG'] = 'Serbien und Montenegro'"
   ]
  },
  {
   "cell_type": "code",
   "execution_count": 9,
   "metadata": {
    "colab": {
     "base_uri": "https://localhost:8080/"
    },
    "id": "Nzq5_dts0PmB",
    "outputId": "3fb750ed-2c02-4928-ed66-e0270ef566c5"
   },
   "outputs": [
    {
     "data": {
      "text/plain": [
       "Turkey                       4171\n",
       "Syrian Arab Republic         2314\n",
       "Kosovo                       2045\n",
       "Pakistan                     1718\n",
       "Morocco                      1367\n",
       "India                        1222\n",
       "Viet Nam                     1149\n",
       "Ukraine                      1026\n",
       "Serbia                       1006\n",
       "Iran, Islamic Republic of     939\n",
       "Iraq                          832\n",
       "Nigeria                       776\n",
       "Russian Federation            712\n",
       "Ghana                         640\n",
       "Afghanistan                   637\n",
       "Eritrea                       635\n",
       "Tunisia                       546\n",
       "North Macedonia               528\n",
       "Philippines                   512\n",
       "Bosnia and Herzegovina        510\n",
       "Name: country_name, dtype: int64"
      ]
     },
     "execution_count": 9,
     "metadata": {},
     "output_type": "execute_result"
    }
   ],
   "source": [
    "df['country'] = df['country'].str.upper().str.strip()\n",
    "df['country'] = df['country'].replace('?', np.nan)\n",
    "df['country_name'] = df['country'].map(COUNTRY_NAMES)\n",
    "df['country_name'].value_counts().head(20)"
   ]
  },
  {
   "cell_type": "code",
   "execution_count": 10,
   "metadata": {
    "colab": {
     "base_uri": "https://localhost:8080/"
    },
    "id": "R0pEVhR80PmC",
    "outputId": "5dbbc661-08c8-4972-b148-4ab5ff21e513"
   },
   "outputs": [
    {
     "data": {
      "text/plain": [
       "237"
      ]
     },
     "execution_count": 10,
     "metadata": {},
     "output_type": "execute_result"
    }
   ],
   "source": [
    "# Unbekannte Länderbezeichnungen\n",
    "len(df[df['country'].notnull() & df['country'].apply(lambda x: x not in COUNTRIES)])"
   ]
  },
  {
   "cell_type": "code",
   "execution_count": 11,
   "metadata": {
    "colab": {
     "base_uri": "https://localhost:8080/"
    },
    "id": "yjDYKjFu0PmC",
    "outputId": "b8989d64-0cdc-45b4-aa0d-ad71f45fd972"
   },
   "outputs": [
    {
     "data": {
      "text/plain": [
       "XXA    138\n",
       "XYZ     61\n",
       "XXX     21\n",
       "Name: country, dtype: int64"
      ]
     },
     "execution_count": 11,
     "metadata": {},
     "output_type": "execute_result"
    }
   ],
   "source": [
    "df[df['country'].str.startswith('X').fillna(False)]['country'].value_counts()"
   ]
  },
  {
   "cell_type": "code",
   "execution_count": 12,
   "metadata": {
    "id": "g1hi38tM0PmE"
   },
   "outputs": [],
   "source": [
    "EXCLUDES.append(((df['country'].isnull() | df['country'].apply(lambda x: x not in COUNTRIES)), 'Country unknown'))"
   ]
  },
  {
   "cell_type": "code",
   "execution_count": 13,
   "metadata": {
    "colab": {
     "base_uri": "https://localhost:8080/"
    },
    "id": "WCvxt3TZdmip",
    "outputId": "75f99bc3-e9aa-4456-f441-6b97e594e208"
   },
   "outputs": [
    {
     "data": {
      "text/plain": [
       "NaN            9443\n",
       "Ankara         1871\n",
       "Beirut         1626\n",
       "Pristina       1436\n",
       "Islamabad      1227\n",
       "Rabat           975\n",
       "Istanbul        826\n",
       "New Delhi       814\n",
       "Teheran         716\n",
       "Addis Abeba     623\n",
       "Lagos           564\n",
       "Hanoi           551\n",
       "Nairobi         543\n",
       "Kiew            492\n",
       "Erbil           465\n",
       "Manila          413\n",
       "Kairo           411\n",
       "Tunis           398\n",
       "Belgrad         383\n",
       "Izmir           370\n",
       "Name: Vertretung, dtype: int64"
      ]
     },
     "execution_count": 13,
     "metadata": {},
     "output_type": "execute_result"
    }
   ],
   "source": [
    "df['Vertretung'].value_counts(dropna=False).head(20)"
   ]
  },
  {
   "cell_type": "code",
   "execution_count": 14,
   "metadata": {
    "id": "mrrsECk50PmF"
   },
   "outputs": [],
   "source": [
    "VERFAHRENSAUSGANG = list('ABCDEFGHIJK')\n",
    "KEINE_KOSTEN_AA = list('ABCDJ')\n",
    "\n",
    "def clean_statistik(val):\n",
    "    if pd.isnull(val):\n",
    "        return val\n",
    "    if ';' in val:\n",
    "        # Take last value if ; is present\n",
    "        val = val.rsplit(';', 1)[1]\n",
    "    val = val.replace('1/2', '').replace('0', '').strip()\n",
    "    if val not in VERFAHRENSAUSGANG:\n",
    "        return np.nan\n",
    "    return val\n",
    "\n",
    "def clean_statistik_kosten(val):\n",
    "    if pd.isnull(val):\n",
    "        return val\n",
    "    if ';' in val:\n",
    "        val = val.rsplit(';', 1)[1]\n",
    "    val = val.replace(' ', '')\n",
    "    if '1/2' in val:\n",
    "        return 0.5\n",
    "    if '0' in val:\n",
    "        return 0\n",
    "    if val in KEINE_KOSTEN_AA:\n",
    "        return 0\n",
    "    return 1\n",
    "\n",
    "def first_valid_value(row, cols):\n",
    "    index = row[cols].first_valid_index()\n",
    "    if index is None:\n",
    "        return np.nan\n",
    "    return row[index]\n",
    "\n",
    "def determine_verfahrensausgang(row):\n",
    "    '''\n",
    "    Wenn Verfahrensausgang B oder H ist, gilt der Ausgang der Vorinstanz\n",
    "    '''\n",
    "    instances = ['verfahrensausgang_bverwg', 'verfahrensausgang_ovg', 'verfahrensausgang_vg']\n",
    "    for instance in instances:\n",
    "        if pd.isnull(row[instance]):\n",
    "            continue\n",
    "        if row[instance] in ('B', 'H'):\n",
    "            continue\n",
    "        return row[instance]\n",
    "    return row[instance]\n",
    "\n",
    "df['verfahrensausgang_vg'] = df['Statistik'].apply(clean_statistik)\n",
    "df['verfahrensausgang_ovg'] = df['Ausgang OVG'].apply(clean_statistik)\n",
    "df['verfahrensausgang_bverwg'] = df['Ausgang BVerwG'].apply(clean_statistik)\n",
    "df['highest_instance'] = df.apply(lambda row: 'bverwg' if pd.notnull(row['verfahrensausgang_bverwg']) else\n",
    "                                                                     'ovg' if pd.notnull(row['verfahrensausgang_ovg']) else 'vg', 1)\n",
    "df['kosten_aa_vg'] = df['Statistik'].apply(clean_statistik_kosten)\n",
    "df['kosten_aa_ovg'] = df['Ausgang OVG'].apply(clean_statistik_kosten)\n",
    "df['kosten_aa_bverwg'] = df['Ausgang BVerwG'].apply(clean_statistik_kosten)\n",
    "df['verfahrensausgang'] = df.apply(lambda row: determine_verfahrensausgang(row), 1)\n",
    "# Kosten richten sich nach der nächsten Instanz\n",
    "df['kosten_aa'] = df.apply(lambda row: first_valid_value(row, ['kosten_aa_bverwg', 'kosten_aa_ovg', 'kosten_aa_vg']), 1)\n",
    "df['verfahrensausgang_datum'] = df.apply(lambda row: first_valid_value(row, ['Datum BVerwG_', 'Datum OVG_', 'Statistk vom']), 1)\n",
    "\n",
    "df['duration'] = (df['verfahrensausgang_datum'] - df['EingangsDatum']).dt.days\n",
    "df['verfahrensausgang_previously_f'] = df.apply(lambda row: row[['verfahrensausgang_bverwg', 'verfahrensausgang_ovg', 'verfahrensausgang_vg']].str.contains('F').any(), 1)"
   ]
  },
  {
   "cell_type": "code",
   "execution_count": 15,
   "metadata": {
    "colab": {
     "base_uri": "https://localhost:8080/"
    },
    "id": "VpkjNxQa7s-8",
    "outputId": "d9def5aa-1c6d-4336-c5fd-e34015a7db0a"
   },
   "outputs": [
    {
     "data": {
      "text/plain": [
       "483"
      ]
     },
     "execution_count": 15,
     "metadata": {},
     "output_type": "execute_result"
    }
   ],
   "source": [
    "len(df[(df['verfahrensausgang_vg'] == \"F\")])"
   ]
  },
  {
   "cell_type": "code",
   "execution_count": 16,
   "metadata": {
    "colab": {
     "base_uri": "https://localhost:8080/"
    },
    "id": "Yc69L4Yq5IoC",
    "outputId": "b0c5712b-18f7-4d22-9c3b-9c4eea889a2e"
   },
   "outputs": [
    {
     "name": "stdout",
     "output_type": "stream",
     "text": [
      "236\n"
     ]
    }
   ],
   "source": [
    "print(sum(df['duration'] < 0))\n",
    "EXCLUDES.append(((df['duration'] < 0), 'Letztes Verfahrensdatum vor Eingangsdatum'))"
   ]
  },
  {
   "cell_type": "code",
   "execution_count": 17,
   "metadata": {
    "colab": {
     "base_uri": "https://localhost:8080/"
    },
    "id": "lXd4N3vK0PmG",
    "outputId": "b1b61b06-6ef3-45c8-9a0a-f88c11d7a8c4"
   },
   "outputs": [
    {
     "data": {
      "text/plain": [
       "M        366\n",
       "A         60\n",
       "L         51\n",
       "?         48\n",
       "C         22\n",
       "B          6\n",
       "J0         2\n",
       "D          2\n",
       "N          2\n",
       "J 0        1\n",
       "A; M       1\n",
       "B; M       1\n",
       "G0         1\n",
       "K          1\n",
       "G 1/2      1\n",
       "Name: Ausgang PKH, dtype: int64"
      ]
     },
     "execution_count": 17,
     "metadata": {},
     "output_type": "execute_result"
    }
   ],
   "source": [
    "df['Ausgang PKH'].value_counts()"
   ]
  },
  {
   "cell_type": "markdown",
   "metadata": {},
   "source": [
    "Enthält der Verfahrensausgang ein Semikolon (;), so gibt es unterschiedliche Verfahrensausgänge für die betroffenen Personen in einem Fall. Da diese sich nicht sinnvoll unterscheiden lassen und es sich um nur wenige Fälle handelt, werden diese von der Analyse ausgeschlossen."
   ]
  },
  {
   "cell_type": "code",
   "execution_count": 18,
   "metadata": {
    "colab": {
     "base_uri": "https://localhost:8080/"
    },
    "id": "alC8QR-90PmI",
    "outputId": "9bc4f740-fcae-424c-9997-7fff4eca02c0"
   },
   "outputs": [
    {
     "data": {
      "text/plain": [
       "68"
      ]
     },
     "execution_count": 18,
     "metadata": {},
     "output_type": "execute_result"
    }
   ],
   "source": [
    "sum(df['Statistik'].str.contains(';').fillna(False))"
   ]
  },
  {
   "cell_type": "code",
   "execution_count": 19,
   "metadata": {
    "id": "1bZDyki80PmJ"
   },
   "outputs": [],
   "source": [
    "EXCLUDES.append(((df['Statistik'].str.contains(';').fillna(False)), 'Statistik contains ;'))\n",
    "EXCLUDES.append(((df['Ausgang OVG'].str.contains(';').fillna(False)), 'Ausgang OVG contains ;'))\n",
    "EXCLUDES.append(((df['Ausgang BVerwG'].str.contains(';').fillna(False)), 'Ausgang BVerwG contains ;'))"
   ]
  },
  {
   "cell_type": "code",
   "execution_count": 20,
   "metadata": {
    "colab": {
     "base_uri": "https://localhost:8080/"
    },
    "id": "sTqV_vmM0PmJ",
    "outputId": "bcb52eaf-b7e8-46e6-866c-02ea09b37aa6"
   },
   "outputs": [
    {
     "data": {
      "text/plain": [
       "M        366\n",
       "A         60\n",
       "L         51\n",
       "?         48\n",
       "C         22\n",
       "B          6\n",
       "J0         2\n",
       "D          2\n",
       "N          2\n",
       "J 0        1\n",
       "A; M       1\n",
       "B; M       1\n",
       "G0         1\n",
       "K          1\n",
       "G 1/2      1\n",
       "Name: Ausgang PKH, dtype: int64"
      ]
     },
     "execution_count": 20,
     "metadata": {},
     "output_type": "execute_result"
    }
   ],
   "source": [
    "df['Ausgang PKH'].value_counts()"
   ]
  },
  {
   "cell_type": "code",
   "execution_count": 21,
   "metadata": {
    "colab": {
     "base_uri": "https://localhost:8080/"
    },
    "id": "TkoGlDdh8Wsh",
    "outputId": "71f7370e-9964-4ed5-a69a-5d73ce3ccc9f"
   },
   "outputs": [
    {
     "data": {
      "text/plain": [
       "FZ-E      11123\n",
       "BES        8218\n",
       "FZ-K       3445\n",
       "FZ-F       2082\n",
       "FZ-E/K     1982\n",
       "EWT        1610\n",
       "STU         979\n",
       "?           558\n",
       "SON         502\n",
       "SPR         363\n",
       "WDK         205\n",
       "KON          62\n",
       "NZ-G         34\n",
       "BVF          10\n",
       "ZZZ           1\n",
       "Name: Grund, dtype: int64"
      ]
     },
     "execution_count": 21,
     "metadata": {},
     "output_type": "execute_result"
    }
   ],
   "source": [
    "df['Grund'] = df['Grund'].str.upper().str.strip()\n",
    "df['familie'] = df['Grund'].str.startswith('FZ').fillna(False)\n",
    "df['Grund'].value_counts()"
   ]
  },
  {
   "cell_type": "markdown",
   "metadata": {},
   "source": [
    "Wir betrachten nur den Familiennachzug."
   ]
  },
  {
   "cell_type": "code",
   "execution_count": 22,
   "metadata": {
    "colab": {
     "base_uri": "https://localhost:8080/"
    },
    "id": "HwBc36sB9HLf",
    "outputId": "a94bfc17-ca14-4185-9fb7-5b8e964d3bfc"
   },
   "outputs": [
    {
     "data": {
      "text/plain": [
       "count     31176\n",
       "unique        2\n",
       "top        True\n",
       "freq      18632\n",
       "Name: familie, dtype: object"
      ]
     },
     "execution_count": 22,
     "metadata": {},
     "output_type": "execute_result"
    }
   ],
   "source": [
    "EXCLUDES.append(((~df['familie']), 'Only FZ'))\n",
    "df['familie'].describe()"
   ]
  },
  {
   "cell_type": "code",
   "execution_count": 23,
   "metadata": {
    "colab": {
     "base_uri": "https://localhost:8080/"
    },
    "id": "c8IP00zteO-m",
    "outputId": "599d4701-d204-41f0-ec29-0f03d839a264"
   },
   "outputs": [
    {
     "data": {
      "text/plain": [
       "NaN                     21223\n",
       "SE                       2624\n",
       "LU                       1635\n",
       "õ 36 II                   608\n",
       "õ 26 II BV                305\n",
       "                        ...  \n",
       "õ 36 a; Ehewi               1\n",
       "Dt., Unt., AssR             1\n",
       "UT, õ 29 Ii, 2 Nr. 2        1\n",
       "LU, 29 III                  1\n",
       "C2                          1\n",
       "Name: _Zusatz, Length: 751, dtype: int64"
      ]
     },
     "execution_count": 23,
     "metadata": {},
     "output_type": "execute_result"
    }
   ],
   "source": [
    "df['_Zusatz'].value_counts(dropna=False)"
   ]
  },
  {
   "cell_type": "markdown",
   "metadata": {
    "id": "3W2Syknk0PmK"
   },
   "source": [
    "### Ausfiltern des Datensatzes"
   ]
  },
  {
   "cell_type": "code",
   "execution_count": 24,
   "metadata": {
    "colab": {
     "base_uri": "https://localhost:8080/"
    },
    "id": "IJRtsH0M0PmL",
    "outputId": "6308c050-96dd-4e3a-cdd3-7c234517de94"
   },
   "outputs": [
    {
     "name": "stdout",
     "output_type": "stream",
     "text": [
      "Datensätze vorher:  31176\n",
      "-  Jahr vor 2007 bei Eingangsdatum\n",
      "-  Jahr vor 2007 bei PKH\n",
      "-  Statistik Datum nach heute\n",
      "-  Country unknown\n",
      "-  Letztes Verfahrensdatum vor Eingangsdatum\n",
      "-  Statistik contains ;\n",
      "-  Ausgang OVG contains ;\n",
      "-  Ausgang BVerwG contains ;\n",
      "-  Only FZ\n",
      "Datensätze nachher:  18286 12890 weniger\n"
     ]
    },
    {
     "name": "stderr",
     "output_type": "stream",
     "text": [
      "<ipython-input-24-368d7f795ff8>:5: UserWarning: Boolean Series key will be reindexed to match DataFrame index.\n",
      "  df = df.drop(df[cond].index)\n"
     ]
    }
   ],
   "source": [
    "print('Datensätze vorher: ', len(df))\n",
    "old_len = len(df)\n",
    "for cond, descr in EXCLUDES:\n",
    "    print('- ', descr)\n",
    "    df = df.drop(df[cond].index)\n",
    "print('Datensätze nachher: ', len(df), old_len - len(df), 'weniger')"
   ]
  },
  {
   "cell_type": "markdown",
   "metadata": {
    "id": "MgVeEgnj0PmN"
   },
   "source": [
    "# Analyse\n",
    "\n"
   ]
  },
  {
   "cell_type": "code",
   "execution_count": 25,
   "metadata": {
    "colab": {
     "base_uri": "https://localhost:8080/"
    },
    "id": "Sxsm6-XKzU3U",
    "outputId": "222329d6-b2d8-41e9-bef9-71535095d51a"
   },
   "outputs": [
    {
     "data": {
      "text/plain": [
       "count                            18286\n",
       "mean     2013-10-28 17:01:22.292464128\n",
       "min                2007-01-10 00:00:00\n",
       "25%                2009-10-02 00:00:00\n",
       "50%                2013-07-08 00:00:00\n",
       "75%                2018-02-07 18:00:00\n",
       "max                2020-10-08 00:00:00\n",
       "Name: EingangsDatum, dtype: object"
      ]
     },
     "execution_count": 25,
     "metadata": {},
     "output_type": "execute_result"
    }
   ],
   "source": [
    "df['EingangsDatum'].describe(datetime_is_numeric=True)"
   ]
  },
  {
   "cell_type": "code",
   "execution_count": 26,
   "metadata": {
    "colab": {
     "base_uri": "https://localhost:8080/"
    },
    "id": "XvCs8mxczYCP",
    "outputId": "0e77b43a-cdf2-4e83-aae6-e224dd29d122"
   },
   "outputs": [
    {
     "data": {
      "text/plain": [
       "count                            15605\n",
       "mean     2013-09-16 23:42:44.639538432\n",
       "min                2007-01-16 00:00:00\n",
       "25%                2010-03-02 00:00:00\n",
       "50%                2013-02-25 00:00:00\n",
       "75%                2017-05-12 00:00:00\n",
       "max                2020-10-05 00:00:00\n",
       "Name: Statistk vom, dtype: object"
      ]
     },
     "execution_count": 26,
     "metadata": {},
     "output_type": "execute_result"
    }
   ],
   "source": [
    "df['Statistk vom'].describe(datetime_is_numeric=True)"
   ]
  },
  {
   "cell_type": "markdown",
   "metadata": {},
   "source": [
    "### Grobe Übersicht über die enthaltenen Datumsangaben"
   ]
  },
  {
   "cell_type": "code",
   "execution_count": 27,
   "metadata": {
    "id": "MaXSohW50PmO"
   },
   "outputs": [],
   "source": [
    "def make_date_df(df, id_vars=None):\n",
    "    if id_vars is None:\n",
    "        id_vars = []\n",
    "    return df.melt(\n",
    "        id_vars=['LFD_NR', 'VG AZ', 'country', 'Vertretung', 'Grund', '_Zusatz'] + id_vars,\n",
    "        value_vars=['EingangsDatum', 'Statistk vom', 'Datum OVG_', 'Datum PKH_', 'Datum BVerwG_'],\n",
    "        var_name='kind', value_name='date'\n",
    "    )"
   ]
  },
  {
   "cell_type": "code",
   "execution_count": 28,
   "metadata": {
    "colab": {
     "base_uri": "https://localhost:8080/",
     "height": 206
    },
    "id": "qaP1WrJa0PmP",
    "outputId": "ddd13408-e98d-4c41-d993-dde1b3b1a2e9"
   },
   "outputs": [
    {
     "data": {
      "text/html": [
       "<div>\n",
       "<style scoped>\n",
       "    .dataframe tbody tr th:only-of-type {\n",
       "        vertical-align: middle;\n",
       "    }\n",
       "\n",
       "    .dataframe tbody tr th {\n",
       "        vertical-align: top;\n",
       "    }\n",
       "\n",
       "    .dataframe thead th {\n",
       "        text-align: right;\n",
       "    }\n",
       "</style>\n",
       "<table border=\"1\" class=\"dataframe\">\n",
       "  <thead>\n",
       "    <tr style=\"text-align: right;\">\n",
       "      <th></th>\n",
       "      <th>date</th>\n",
       "      <th>kind</th>\n",
       "      <th>count</th>\n",
       "    </tr>\n",
       "  </thead>\n",
       "  <tbody>\n",
       "    <tr>\n",
       "      <th>0</th>\n",
       "      <td>2007-01-31</td>\n",
       "      <td>Datum BVerwG_</td>\n",
       "      <td>0.0</td>\n",
       "    </tr>\n",
       "    <tr>\n",
       "      <th>1</th>\n",
       "      <td>2007-02-28</td>\n",
       "      <td>Datum BVerwG_</td>\n",
       "      <td>0.0</td>\n",
       "    </tr>\n",
       "    <tr>\n",
       "      <th>2</th>\n",
       "      <td>2007-03-31</td>\n",
       "      <td>Datum BVerwG_</td>\n",
       "      <td>0.0</td>\n",
       "    </tr>\n",
       "    <tr>\n",
       "      <th>3</th>\n",
       "      <td>2007-04-30</td>\n",
       "      <td>Datum BVerwG_</td>\n",
       "      <td>0.0</td>\n",
       "    </tr>\n",
       "    <tr>\n",
       "      <th>4</th>\n",
       "      <td>2007-05-31</td>\n",
       "      <td>Datum BVerwG_</td>\n",
       "      <td>0.0</td>\n",
       "    </tr>\n",
       "  </tbody>\n",
       "</table>\n",
       "</div>"
      ],
      "text/plain": [
       "        date           kind  count\n",
       "0 2007-01-31  Datum BVerwG_    0.0\n",
       "1 2007-02-28  Datum BVerwG_    0.0\n",
       "2 2007-03-31  Datum BVerwG_    0.0\n",
       "3 2007-04-30  Datum BVerwG_    0.0\n",
       "4 2007-05-31  Datum BVerwG_    0.0"
      ]
     },
     "execution_count": 28,
     "metadata": {},
     "output_type": "execute_result"
    }
   ],
   "source": [
    "date_df = make_date_df(df)\n",
    "\n",
    "grouped_df = date_df.groupby(['date', 'kind'])['VG AZ'].count().unstack().resample('1M').sum().reset_index().melt(\n",
    "    id_vars='date',\n",
    "    value_name='count'\n",
    ")\n",
    "grouped_df.head()"
   ]
  },
  {
   "cell_type": "code",
   "execution_count": 29,
   "metadata": {
    "colab": {
     "base_uri": "https://localhost:8080/",
     "height": 488
    },
    "id": "NhXbASoF0PmQ",
    "outputId": "0fad1582-280b-4e83-ed1a-516c22cf8635"
   },
   "outputs": [],
   "source": [
    "# alt.Chart(grouped_df).mark_bar().encode(\n",
    "#     x='date',\n",
    "#     y='count',\n",
    "#     color='kind'\n",
    "# ).properties(\n",
    "#     width=1800,\n",
    "#     height=400\n",
    "# )"
   ]
  },
  {
   "cell_type": "markdown",
   "metadata": {
    "id": "0LU3lqTL0PmV"
   },
   "source": [
    "# Recherchefragen\n",
    "\n",
    "## Wie hoch ist die Vergleichsquote?\n",
    "\n",
    "Im folgenden wird 'Vergleich' für die Verfahrensausgänge D und G (Einstellung und Erledigung) verwendet.\n",
    "Eine Visa-Erteilung wird bei Verfahrensausgängen D, G und F angenommen.\n",
    "\n",
    "Auch Kategorie C ist laut Aussage des Sachbearbeiters oft Vergleich (\"60 - 80% der Fälle\"). Werden Visumsbedingungen nach Klagerücknahme erfüllt, wird das Visum genehmigt. Nur ~ein Drittel seien eine glatte Rücknahme.\n",
    "\n",
    "Wir berechnen daher die Vergleiche D+G und einen Bereich für die Visaerteilung bei Verfahrensausgang C."
   ]
  },
  {
   "cell_type": "code",
   "execution_count": 30,
   "metadata": {
    "colab": {
     "base_uri": "https://localhost:8080/"
    },
    "id": "jduXDZW60PmX",
    "outputId": "35e5e58d-64bb-48ba-e583-823030fbb806"
   },
   "outputs": [
    {
     "name": "stdout",
     "output_type": "stream",
     "text": [
      "year                             NaN\n",
      "total                   18286.000000\n",
      "erteilt                  5642.000000\n",
      "erteilt_high             9749.200000\n",
      "erteilt_low              8722.400000\n",
      "erteilt_prozent            30.854205\n",
      "erteilt_prozent_high       53.315104\n",
      "erteilt_prozent_low        47.699880\n",
      "vergleich                5347.000000\n",
      "vergleich_high           9454.200000\n",
      "vergleich_low            8427.400000\n",
      "vergleichsquote            94.771358\n",
      "vergleichsquote_high       96.974111\n",
      "vergleichsquote_low        96.617903\n",
      "dtype: float64\n"
     ]
    }
   ],
   "source": [
    "VISA_ALLE = list('DGF')\n",
    "VISA_VERGLEICH = list('DG')\n",
    "VISA_C_RANGE = [0.6, 0.8]\n",
    "\n",
    "def calculate_vergleichsquote(df, year=None):\n",
    "\n",
    "    visa_erteilt_c = (df['verfahrensausgang'] == 'C').sum()\n",
    "\n",
    "    total_count = len(df)\n",
    "    visa_erteilt = df['verfahrensausgang'].isin(VISA_ALLE).sum()\n",
    "    total_count = len(df)\n",
    "    visa_erteilt_low = visa_erteilt + VISA_C_RANGE[0] * visa_erteilt_c\n",
    "    visa_erteilt_high = visa_erteilt + VISA_C_RANGE[1] * visa_erteilt_c\n",
    "\n",
    "    visa_vergleich = df['verfahrensausgang'].isin(VISA_VERGLEICH).sum()\n",
    "    visa_vergleich_low = visa_vergleich + VISA_C_RANGE[0] * visa_erteilt_c\n",
    "    visa_vergleich_high = visa_vergleich + VISA_C_RANGE[1] * visa_erteilt_c\n",
    "\n",
    "\n",
    "    return pd.Series({\n",
    "        'year': year,\n",
    "        'total': total_count,\n",
    "        'erteilt': visa_erteilt,\n",
    "        'erteilt_high': visa_erteilt_high,\n",
    "        'erteilt_low': visa_erteilt_low,\n",
    "        'erteilt_prozent': visa_erteilt / total_count * 100,\n",
    "        'erteilt_prozent_high': visa_erteilt_high / total_count * 100,\n",
    "        'erteilt_prozent_low': visa_erteilt_low / total_count * 100,\n",
    "        'vergleich': visa_vergleich,\n",
    "        'vergleich_high': visa_vergleich_high,\n",
    "        'vergleich_low': visa_vergleich_low,\n",
    "        'vergleichsquote': visa_vergleich / visa_erteilt * 100,\n",
    "        'vergleichsquote_high': visa_vergleich_high / visa_erteilt_high * 100,\n",
    "        'vergleichsquote_low': visa_vergleich_low / visa_erteilt_low * 100,\n",
    "    })\n",
    "\n",
    "df['visa_erteilt'] = df['verfahrensausgang'].isin(VISA_ALLE)\n",
    "df['visa_mit_vergleich'] = df['verfahrensausgang'].isin(VISA_VERGLEICH)\n",
    "df['visa_ohne_vergleich'] = df['visa_erteilt'] & ~df['visa_mit_vergleich']\n",
    "print(calculate_vergleichsquote(df))"
   ]
  },
  {
   "cell_type": "code",
   "execution_count": 31,
   "metadata": {},
   "outputs": [],
   "source": [
    "df_final = df[df['verfahrensausgang'].notnull()]"
   ]
  },
  {
   "cell_type": "code",
   "execution_count": 32,
   "metadata": {
    "colab": {
     "base_uri": "https://localhost:8080/"
    },
    "id": "QvkdSEzSKwVp",
    "outputId": "18aa23a2-4b78-41e4-c3f7-a0b44c4d8303"
   },
   "outputs": [
    {
     "data": {
      "text/plain": [
       "5642"
      ]
     },
     "execution_count": 32,
     "metadata": {},
     "output_type": "execute_result"
    }
   ],
   "source": [
    "df['visa_erteilt'].sum()"
   ]
  },
  {
   "cell_type": "code",
   "execution_count": 33,
   "metadata": {
    "colab": {
     "base_uri": "https://localhost:8080/"
    },
    "id": "UCgvh06bK0Te",
    "outputId": "67dc1540-d41c-45f2-ea81-23b0206ea722"
   },
   "outputs": [
    {
     "data": {
      "text/plain": [
       "5347"
      ]
     },
     "execution_count": 33,
     "metadata": {},
     "output_type": "execute_result"
    }
   ],
   "source": [
    "df['visa_mit_vergleich'].sum()"
   ]
  },
  {
   "cell_type": "code",
   "execution_count": 34,
   "metadata": {
    "colab": {
     "base_uri": "https://localhost:8080/"
    },
    "id": "L2aBAw3bLCzH",
    "outputId": "cbbc32d2-ac79-4955-97b5-7f371ff066ff"
   },
   "outputs": [
    {
     "data": {
      "text/plain": [
       "295"
      ]
     },
     "execution_count": 34,
     "metadata": {},
     "output_type": "execute_result"
    }
   ],
   "source": [
    "df['visa_ohne_vergleich'].sum()"
   ]
  },
  {
   "cell_type": "markdown",
   "metadata": {},
   "source": [
    "Vergleichsquote über die Jahre"
   ]
  },
  {
   "cell_type": "code",
   "execution_count": 35,
   "metadata": {
    "colab": {
     "base_uri": "https://localhost:8080/",
     "height": 296
    },
    "id": "kOPvps1ctGe7",
    "outputId": "1b3fc607-2ad3-453a-ec38-da76ec19e85e"
   },
   "outputs": [
    {
     "data": {
      "text/plain": [
       "<matplotlib.axes._subplots.AxesSubplot at 0x1145a2160>"
      ]
     },
     "execution_count": 35,
     "metadata": {},
     "output_type": "execute_result"
    },
    {
     "data": {
      "image/png": "[encoded data removed]",
      "text/plain": [
       "<Figure size 432x288 with 1 Axes>"
      ]
     },
     "metadata": {
      "needs_background": "light"
     },
     "output_type": "display_data"
    }
   ],
   "source": [
    "grouped = df.groupby(df['verfahrensausgang_datum'].dt.year)\n",
    "quota_by_year = pd.DataFrame(calculate_vergleichsquote(rows, year=group) for group, rows in grouped)\n",
    "quota_by_year.set_index('year')[['vergleichsquote', 'vergleichsquote_low', 'vergleichsquote_high']].plot()"
   ]
  },
  {
   "cell_type": "code",
   "execution_count": 36,
   "metadata": {
    "colab": {
     "base_uri": "https://localhost:8080/"
    },
    "id": "TFyqXYY40PmY",
    "outputId": "87770312-5d80-4d74-88c2-e1fedd111ecb"
   },
   "outputs": [
    {
     "name": "stdout",
     "output_type": "stream",
     "text": [
      "Anzahl der Visa-Erteilung an allen Verfahren 5642  =  36.044208777870054 %\n"
     ]
    }
   ],
   "source": [
    "print('Anzahl der Visa-Erteilung an allen Verfahren', df['visa_erteilt'].sum(),' = ', df['visa_erteilt'].sum() / df['verfahrensausgang'].notnull().sum() * 100, '%')"
   ]
  },
  {
   "cell_type": "code",
   "execution_count": 37,
   "metadata": {
    "colab": {
     "base_uri": "https://localhost:8080/"
    },
    "id": "nGcKFDza0Pm4",
    "outputId": "4f28a85d-b512-4127-a3a7-3fc30925c8e1"
   },
   "outputs": [
    {
     "data": {
      "text/plain": [
       "18286"
      ]
     },
     "execution_count": 37,
     "metadata": {},
     "output_type": "execute_result"
    }
   ],
   "source": [
    "len(df)"
   ]
  },
  {
   "cell_type": "markdown",
   "metadata": {
    "id": "KhVpLt1_0Pm4"
   },
   "source": [
    "### Verfahrensausgänge über die Zeit"
   ]
  },
  {
   "cell_type": "code",
   "execution_count": 38,
   "metadata": {
    "colab": {
     "base_uri": "https://localhost:8080/",
     "height": 300
    },
    "id": "Mewh23JhHmwA",
    "outputId": "e955e645-d242-44d1-f29f-3dca77527505"
   },
   "outputs": [
    {
     "data": {
      "text/plain": [
       "<matplotlib.axes._subplots.AxesSubplot at 0x1167e7340>"
      ]
     },
     "execution_count": 38,
     "metadata": {},
     "output_type": "execute_result"
    },
    {
     "data": {
      "image/png": "[encoded data removed]",
      "text/plain": [
       "<Figure size 432x288 with 1 Axes>"
      ]
     },
     "metadata": {
      "needs_background": "light"
     },
     "output_type": "display_data"
    }
   ],
   "source": [
    "df.groupby(df['EingangsDatum'].dt.year).size().plot()"
   ]
  },
  {
   "cell_type": "code",
   "execution_count": 39,
   "metadata": {
    "colab": {
     "base_uri": "https://localhost:8080/",
     "height": 297
    },
    "id": "SobQjhzZHvfz",
    "outputId": "a458f2a8-e9e1-46df-b9f0-6bf13f0b5ab0"
   },
   "outputs": [
    {
     "data": {
      "text/plain": [
       "<matplotlib.axes._subplots.AxesSubplot at 0x1168fab20>"
      ]
     },
     "execution_count": 39,
     "metadata": {},
     "output_type": "execute_result"
    },
    {
     "data": {
      "image/png": "[encoded data removed]",
      "text/plain": [
       "<Figure size 432x288 with 1 Axes>"
      ]
     },
     "metadata": {
      "needs_background": "light"
     },
     "output_type": "display_data"
    }
   ],
   "source": [
    "df.groupby(df['verfahrensausgang_datum'].dt.year).size().plot()"
   ]
  },
  {
   "cell_type": "code",
   "execution_count": 40,
   "metadata": {
    "colab": {
     "base_uri": "https://localhost:8080/"
    },
    "id": "_XE6md54bn47",
    "outputId": "2d00fe82-5b7a-4785-d67d-f60512c1e85d"
   },
   "outputs": [
    {
     "data": {
      "text/plain": [
       "verfahrensausgang_datum\n",
       "2007.0    199\n",
       "2008.0    547\n",
       "2009.0    553\n",
       "2010.0    513\n",
       "2011.0    452\n",
       "2012.0    412\n",
       "2013.0    384\n",
       "2014.0    325\n",
       "2015.0    309\n",
       "2016.0    355\n",
       "2017.0    320\n",
       "2018.0    328\n",
       "2019.0    373\n",
       "2020.0    208\n",
       "dtype: int64"
      ]
     },
     "execution_count": 40,
     "metadata": {},
     "output_type": "execute_result"
    }
   ],
   "source": [
    "df.query('visa_erteilt and visa_mit_vergleich').groupby(df['verfahrensausgang_datum'].dt.year).size()"
   ]
  },
  {
   "cell_type": "code",
   "execution_count": 41,
   "metadata": {
    "colab": {
     "base_uri": "https://localhost:8080/",
     "height": 297
    },
    "id": "RI8_tw98bG8K",
    "outputId": "ff9d2351-9d21-4df8-887f-3aa5cd5664a0"
   },
   "outputs": [
    {
     "data": {
      "text/plain": [
       "<matplotlib.axes._subplots.AxesSubplot at 0x1169494c0>"
      ]
     },
     "execution_count": 41,
     "metadata": {},
     "output_type": "execute_result"
    },
    {
     "data": {
      "image/png": "[encoded data removed]",
      "text/plain": [
       "<Figure size 432x288 with 1 Axes>"
      ]
     },
     "metadata": {
      "needs_background": "light"
     },
     "output_type": "display_data"
    }
   ],
   "source": [
    "df.query('visa_erteilt and visa_mit_vergleich').groupby(df['verfahrensausgang_datum'].dt.year).size().plot()"
   ]
  },
  {
   "cell_type": "code",
   "execution_count": 42,
   "metadata": {
    "colab": {
     "base_uri": "https://localhost:8080/"
    },
    "id": "Ru8SKnhsV25w",
    "outputId": "c4b2fe4c-d5aa-45dd-85be-e63a0b6db20d"
   },
   "outputs": [
    {
     "data": {
      "text/plain": [
       "D    4262\n",
       "G     395\n",
       "F      51\n",
       "Name: verfahrensausgang, dtype: int64"
      ]
     },
     "execution_count": 42,
     "metadata": {},
     "output_type": "execute_result"
    }
   ],
   "source": [
    "df.query('kosten_aa == 0.0 and visa_erteilt')['verfahrensausgang'].value_counts()"
   ]
  },
  {
   "cell_type": "code",
   "execution_count": 43,
   "metadata": {
    "colab": {
     "base_uri": "https://localhost:8080/"
    },
    "id": "QYjGgrEl0Pm4",
    "outputId": "3c1039c7-8247-4782-986c-a3a32f0d830e"
   },
   "outputs": [
    {
     "name": "stdout",
     "output_type": "stream",
     "text": [
      "Verfahrensausgänge in Prozent:\n"
     ]
    },
    {
     "data": {
      "text/plain": [
       "C    28.076124\n",
       "D    23.832440\n",
       "A    21.431696\n",
       "G     5.408509\n",
       "J     4.845237\n",
       "F     1.613256\n",
       "E     0.169529\n",
       "K     0.142185\n",
       "I     0.043749\n",
       "B     0.038281\n",
       "Name: verfahrensausgang, dtype: float64"
      ]
     },
     "execution_count": 43,
     "metadata": {},
     "output_type": "execute_result"
    }
   ],
   "source": [
    "print('Verfahrensausgänge in Prozent:')\n",
    "df['verfahrensausgang'].value_counts() / len(df['verfahrensausgang']) * 100"
   ]
  },
  {
   "cell_type": "code",
   "execution_count": 44,
   "metadata": {
    "colab": {
     "base_uri": "https://localhost:8080/"
    },
    "id": "_iy8CE1WXv3E",
    "outputId": "0bba22ce-33cd-45f3-d556-d84de2d0f2bd"
   },
   "outputs": [
    {
     "data": {
      "text/plain": [
       "C      5134\n",
       "D      4358\n",
       "A      3919\n",
       "NaN    2633\n",
       "G       989\n",
       "J       886\n",
       "F       295\n",
       "E        31\n",
       "K        26\n",
       "I         8\n",
       "B         7\n",
       "Name: verfahrensausgang, dtype: int64"
      ]
     },
     "execution_count": 44,
     "metadata": {},
     "output_type": "execute_result"
    }
   ],
   "source": [
    "df['verfahrensausgang'].value_counts(dropna=False)"
   ]
  },
  {
   "cell_type": "code",
   "execution_count": 45,
   "metadata": {
    "colab": {
     "base_uri": "https://localhost:8080/"
    },
    "id": "Hfe0guTC0Pm5",
    "outputId": "036c8b63-513c-4271-e0a8-9877e9ab97df"
   },
   "outputs": [
    {
     "name": "stdout",
     "output_type": "stream",
     "text": [
      "Median-Verfahrensdauer nach Ausgang in Tagen:\n"
     ]
    },
    {
     "data": {
      "text/plain": [
       "verfahrensausgang\n",
       "A     338.0\n",
       "B     163.0\n",
       "C     246.0\n",
       "D     260.0\n",
       "E     314.0\n",
       "F     370.0\n",
       "G     160.0\n",
       "I    1265.5\n",
       "J     271.0\n",
       "K     756.5\n",
       "Name: duration, dtype: float64"
      ]
     },
     "execution_count": 45,
     "metadata": {},
     "output_type": "execute_result"
    }
   ],
   "source": [
    "print('Median-Verfahrensdauer nach Ausgang in Tagen:')\n",
    "df.groupby('verfahrensausgang')['duration'].median()"
   ]
  },
  {
   "cell_type": "code",
   "execution_count": 46,
   "metadata": {
    "id": "S38szcwc0Pm5"
   },
   "outputs": [],
   "source": [
    "dauer_mit_vergleich = df.query('visa_mit_vergleich')['duration'].mean()"
   ]
  },
  {
   "cell_type": "markdown",
   "metadata": {
    "id": "_tRrdoyo0Pm6"
   },
   "source": [
    "### Unterschied in der Verfahrensdauer (Datum Eingang bis Datum Statistik)\n",
    "\n",
    "Dauern erfolgreiche Visa-Verfahren ohne Vergleich länger? Der Schnitt sagt ja, aber die Verteilung ist nicht so offensichtlich."
   ]
  },
  {
   "cell_type": "code",
   "execution_count": 47,
   "metadata": {
    "colab": {
     "base_uri": "https://localhost:8080/"
    },
    "id": "SMfysIvBPMFc",
    "outputId": "c97ea0c4-05cf-4f6a-a7c9-fcfc86d6ada8"
   },
   "outputs": [
    {
     "name": "stdout",
     "output_type": "stream",
     "text": [
      "Dauer der Verfahren mit Visa im Schnitt: 299.0 Tage\n"
     ]
    }
   ],
   "source": [
    "print('Dauer der Verfahren mit Visa im Schnitt:', round(df.query('visa_erteilt')['duration'].mean()), 'Tage')"
   ]
  },
  {
   "cell_type": "code",
   "execution_count": 48,
   "metadata": {
    "colab": {
     "base_uri": "https://localhost:8080/"
    },
    "id": "jhThZCOj0Pm8",
    "outputId": "9ddafbf6-5bb3-4459-c960-4c83bd5793e7"
   },
   "outputs": [
    {
     "name": "stdout",
     "output_type": "stream",
     "text": [
      "Dauer der Verfahren mit Vergleich im Schnitt: 290.0 Tage\n"
     ]
    }
   ],
   "source": [
    "print('Dauer der Verfahren mit Vergleich im Schnitt:', round(df.query('visa_mit_vergleich')['duration'].mean()), 'Tage')"
   ]
  },
  {
   "cell_type": "code",
   "execution_count": 49,
   "metadata": {
    "colab": {
     "base_uri": "https://localhost:8080/"
    },
    "id": "seYx-aKM0Pm-",
    "outputId": "e230f16b-d739-477c-b1a4-b99f0dc2dd76"
   },
   "outputs": [
    {
     "name": "stdout",
     "output_type": "stream",
     "text": [
      "Dauer der Verfahren ohne Vergleich im Schnitt: 456.0 Tage\n"
     ]
    }
   ],
   "source": [
    "print('Dauer der Verfahren ohne Vergleich im Schnitt:', round(df.query('visa_ohne_vergleich')['duration'].mean()), 'Tage')"
   ]
  },
  {
   "cell_type": "markdown",
   "metadata": {
    "id": "Jzb8WpXb0Pm_"
   },
   "source": [
    "Ein Histogram der Verfahrensdauer für Vergleich und ohne. Da springt der Unterschied nicht ins Auge."
   ]
  },
  {
   "cell_type": "code",
   "execution_count": 50,
   "metadata": {
    "colab": {
     "base_uri": "https://localhost:8080/",
     "height": 453
    },
    "id": "JsRQtNOS0Pm_",
    "outputId": "db4a4135-0414-4f63-f5be-97174bf5a75f"
   },
   "outputs": [],
   "source": [
    "# (\n",
    "#     alt.Chart(df.query('visa_erteilt and highest_instance == \"vg\"'))\n",
    "#     .mark_area(\n",
    "#         opacity=0.3,\n",
    "#         interpolate='step'\n",
    "#     ).encode(\n",
    "#         alt.X('duration:Q', bin=alt.Bin(maxbins=50)),\n",
    "#         alt.Y('count()', stack=None),\n",
    "#         alt.Color('visa_mit_vergleich'),\n",
    "#         column='year(EingangsDatum)'\n",
    "#     )\n",
    "#     .properties(\n",
    "#         title=\"Verfahrensdauer in Tagen bei VG-Verfahren, in denen ein Visum erteilt wurde, nach Vergleich und Eingangsdatumsjahr\"\n",
    "#     )\n",
    "# )"
   ]
  },
  {
   "cell_type": "markdown",
   "metadata": {
    "id": "uptUV3MC0PnH"
   },
   "source": [
    "Normalisiert nach Kategorie:"
   ]
  },
  {
   "cell_type": "code",
   "execution_count": 51,
   "metadata": {
    "colab": {
     "base_uri": "https://localhost:8080/",
     "height": 453
    },
    "id": "kGeLzEPH0PnI",
    "outputId": "66f3b8fc-d573-448e-9a39-555008ab47ea"
   },
   "outputs": [],
   "source": [
    "# (\n",
    "#     alt.Chart(df.query('visa_erteilt'))\n",
    "#     .transform_joinaggregate(\n",
    "#         total='count(*)',\n",
    "#         groupby=['visa_mit_vergleich']\n",
    "#     ).transform_calculate(\n",
    "#         pct='1 / datum.total'\n",
    "#     )\n",
    "#     .mark_area(\n",
    "#         opacity=0.3,\n",
    "#         interpolate='step'\n",
    "#     ).encode(\n",
    "#         alt.X('duration:Q', bin=alt.Bin(maxbins=50)),\n",
    "# #         alt.Y('sum(duration)', stack=\"normalize\"),\n",
    "#         alt.Y('sum(pct):Q', axis=alt.Axis(format='%'), stack=None),\n",
    "#         alt.Color('visa_mit_vergleich'),\n",
    "#         column='year(EingangsDatum)'\n",
    "#     )\n",
    "#     .properties(\n",
    "#         title=\"Verfahrensdauer in Tagen bei VG-Verfahren, in denen ein Visum erteilt wurde, nach Vergleich und Eingangsdatumsjahr, normalisiert\"\n",
    "#     )\n",
    "# )"
   ]
  },
  {
   "cell_type": "code",
   "execution_count": 52,
   "metadata": {
    "colab": {
     "base_uri": "https://localhost:8080/"
    },
    "id": "F_bCOd7o0PnQ",
    "outputId": "f5e5cb64-0af6-4b1b-ce7d-1a040700d101"
   },
   "outputs": [
    {
     "data": {
      "text/plain": [
       "count     293.000000\n",
       "mean      455.802048\n",
       "std       352.986740\n",
       "min         2.000000\n",
       "25%       241.000000\n",
       "50%       370.000000\n",
       "75%       554.000000\n",
       "max      1995.000000\n",
       "Name: duration, dtype: float64"
      ]
     },
     "execution_count": 52,
     "metadata": {},
     "output_type": "execute_result"
    }
   ],
   "source": [
    "df.query('visa_ohne_vergleich')['duration'].describe()"
   ]
  },
  {
   "cell_type": "code",
   "execution_count": 53,
   "metadata": {
    "colab": {
     "base_uri": "https://localhost:8080/"
    },
    "id": "PeNTkC3e0PnR",
    "outputId": "6aa31787-f1c6-4b33-81ff-69464fc9e027"
   },
   "outputs": [
    {
     "data": {
      "text/plain": [
       "count    5278.000000\n",
       "mean      290.276809\n",
       "std       223.454014\n",
       "min         1.000000\n",
       "25%       141.000000\n",
       "50%       245.000000\n",
       "75%       374.000000\n",
       "max      2870.000000\n",
       "Name: duration, dtype: float64"
      ]
     },
     "execution_count": 53,
     "metadata": {},
     "output_type": "execute_result"
    }
   ],
   "source": [
    "df.query('visa_mit_vergleich')['duration'].describe()"
   ]
  },
  {
   "cell_type": "markdown",
   "metadata": {
    "id": "knTVZ4nH0PnR"
   },
   "source": [
    "## Vergleichsquote in Prozent über die Jahre"
   ]
  },
  {
   "cell_type": "code",
   "execution_count": 54,
   "metadata": {
    "colab": {
     "base_uri": "https://localhost:8080/",
     "height": 312
    },
    "id": "R3qJ47M00PnS",
    "outputId": "68480227-25a3-49f3-cf38-ece7cf7dcb70"
   },
   "outputs": [
    {
     "data": {
      "text/plain": [
       "<matplotlib.axes._subplots.AxesSubplot at 0x1169c5b20>"
      ]
     },
     "execution_count": 54,
     "metadata": {},
     "output_type": "execute_result"
    },
    {
     "data": {
      "image/png": "[encoded data removed]",
      "text/plain": [
       "<Figure size 432x288 with 1 Axes>"
      ]
     },
     "metadata": {
      "needs_background": "light"
     },
     "output_type": "display_data"
    }
   ],
   "source": [
    "date_df = make_date_df(df.query('visa_erteilt'), ['visa_mit_vergleich'])\n",
    "time_frame = '1A'\n",
    "vmv_df = (\n",
    "    date_df.groupby(['date'])['visa_mit_vergleich'].sum().resample(time_frame).sum() /\n",
    "    date_df.groupby(['date'])['visa_mit_vergleich'].count().resample(time_frame).sum()\n",
    ") * 100\n",
    "\n",
    "vmv_df.plot(title='Vergleichsquote in Prozent über die Jahre')"
   ]
  },
  {
   "cell_type": "markdown",
   "metadata": {
    "id": "EGLjNuYy0PnT"
   },
   "source": [
    "### Vergleichsquote nach Ländern mit Anzahl der Fälle"
   ]
  },
  {
   "cell_type": "code",
   "execution_count": 55,
   "metadata": {
    "colab": {
     "base_uri": "https://localhost:8080/",
     "height": 1000
    },
    "id": "D9IjhT_90PnT",
    "outputId": "1e27d388-94d7-4a4a-a120-875dcaa708ef"
   },
   "outputs": [
    {
     "data": {
      "text/html": [
       "<div>\n",
       "<style scoped>\n",
       "    .dataframe tbody tr th:only-of-type {\n",
       "        vertical-align: middle;\n",
       "    }\n",
       "\n",
       "    .dataframe tbody tr th {\n",
       "        vertical-align: top;\n",
       "    }\n",
       "\n",
       "    .dataframe thead tr th {\n",
       "        text-align: left;\n",
       "    }\n",
       "\n",
       "    .dataframe thead tr:last-of-type th {\n",
       "        text-align: right;\n",
       "    }\n",
       "</style>\n",
       "<table border=\"1\" class=\"dataframe\">\n",
       "  <thead>\n",
       "    <tr>\n",
       "      <th></th>\n",
       "      <th>mean</th>\n",
       "      <th>len</th>\n",
       "    </tr>\n",
       "    <tr>\n",
       "      <th></th>\n",
       "      <th>visa_mit_vergleich</th>\n",
       "      <th>visa_mit_vergleich</th>\n",
       "    </tr>\n",
       "    <tr>\n",
       "      <th>country</th>\n",
       "      <th></th>\n",
       "      <th></th>\n",
       "    </tr>\n",
       "  </thead>\n",
       "  <tbody>\n",
       "    <tr>\n",
       "      <th>LBY</th>\n",
       "      <td>1.0</td>\n",
       "      <td>4</td>\n",
       "    </tr>\n",
       "    <tr>\n",
       "      <th>HRV</th>\n",
       "      <td>1.0</td>\n",
       "      <td>10</td>\n",
       "    </tr>\n",
       "    <tr>\n",
       "      <th>JAM</th>\n",
       "      <td>1.0</td>\n",
       "      <td>1</td>\n",
       "    </tr>\n",
       "    <tr>\n",
       "      <th>JOR</th>\n",
       "      <td>1.0</td>\n",
       "      <td>27</td>\n",
       "    </tr>\n",
       "    <tr>\n",
       "      <th>KGZ</th>\n",
       "      <td>1.0</td>\n",
       "      <td>5</td>\n",
       "    </tr>\n",
       "    <tr>\n",
       "      <th>KWT</th>\n",
       "      <td>1.0</td>\n",
       "      <td>1</td>\n",
       "    </tr>\n",
       "    <tr>\n",
       "      <th>MEX</th>\n",
       "      <td>1.0</td>\n",
       "      <td>1</td>\n",
       "    </tr>\n",
       "    <tr>\n",
       "      <th>MLI</th>\n",
       "      <td>1.0</td>\n",
       "      <td>2</td>\n",
       "    </tr>\n",
       "    <tr>\n",
       "      <th>MNE</th>\n",
       "      <td>1.0</td>\n",
       "      <td>9</td>\n",
       "    </tr>\n",
       "    <tr>\n",
       "      <th>MOZ</th>\n",
       "      <td>1.0</td>\n",
       "      <td>7</td>\n",
       "    </tr>\n",
       "    <tr>\n",
       "      <th>NPL</th>\n",
       "      <td>1.0</td>\n",
       "      <td>15</td>\n",
       "    </tr>\n",
       "    <tr>\n",
       "      <th>PER</th>\n",
       "      <td>1.0</td>\n",
       "      <td>13</td>\n",
       "    </tr>\n",
       "    <tr>\n",
       "      <th>POL</th>\n",
       "      <td>1.0</td>\n",
       "      <td>1</td>\n",
       "    </tr>\n",
       "    <tr>\n",
       "      <th>PRY</th>\n",
       "      <td>1.0</td>\n",
       "      <td>2</td>\n",
       "    </tr>\n",
       "    <tr>\n",
       "      <th>PSE</th>\n",
       "      <td>1.0</td>\n",
       "      <td>27</td>\n",
       "    </tr>\n",
       "    <tr>\n",
       "      <th>QAT</th>\n",
       "      <td>1.0</td>\n",
       "      <td>1</td>\n",
       "    </tr>\n",
       "    <tr>\n",
       "      <th>RWA</th>\n",
       "      <td>1.0</td>\n",
       "      <td>1</td>\n",
       "    </tr>\n",
       "    <tr>\n",
       "      <th>SAU</th>\n",
       "      <td>1.0</td>\n",
       "      <td>1</td>\n",
       "    </tr>\n",
       "    <tr>\n",
       "      <th>SCG</th>\n",
       "      <td>1.0</td>\n",
       "      <td>3</td>\n",
       "    </tr>\n",
       "    <tr>\n",
       "      <th>SLE</th>\n",
       "      <td>1.0</td>\n",
       "      <td>3</td>\n",
       "    </tr>\n",
       "  </tbody>\n",
       "</table>\n",
       "</div>"
      ],
      "text/plain": [
       "                      mean                len\n",
       "        visa_mit_vergleich visa_mit_vergleich\n",
       "country                                      \n",
       "LBY                    1.0                  4\n",
       "HRV                    1.0                 10\n",
       "JAM                    1.0                  1\n",
       "JOR                    1.0                 27\n",
       "KGZ                    1.0                  5\n",
       "KWT                    1.0                  1\n",
       "MEX                    1.0                  1\n",
       "MLI                    1.0                  2\n",
       "MNE                    1.0                  9\n",
       "MOZ                    1.0                  7\n",
       "NPL                    1.0                 15\n",
       "PER                    1.0                 13\n",
       "POL                    1.0                  1\n",
       "PRY                    1.0                  2\n",
       "PSE                    1.0                 27\n",
       "QAT                    1.0                  1\n",
       "RWA                    1.0                  1\n",
       "SAU                    1.0                  1\n",
       "SCG                    1.0                  3\n",
       "SLE                    1.0                  3"
      ]
     },
     "execution_count": 55,
     "metadata": {},
     "output_type": "execute_result"
    }
   ],
   "source": [
    "df.query('visa_erteilt').pivot_table(\n",
    "    index=['country'],\n",
    "    values='visa_mit_vergleich',\n",
    "    aggfunc=[np.mean, len]\n",
    ").sort_values(('mean', 'visa_mit_vergleich'), ascending=False).head(20)"
   ]
  },
  {
   "cell_type": "markdown",
   "metadata": {
    "id": "bLxfjEdw0PnW"
   },
   "source": [
    "## Kosten bei Visa-Erteilung"
   ]
  },
  {
   "cell_type": "code",
   "execution_count": 56,
   "metadata": {
    "colab": {
     "base_uri": "https://localhost:8080/"
    },
    "id": "EKeGHn4v0PnW",
    "outputId": "7058c62c-726b-4afc-961d-1d0b8cfa62ce"
   },
   "outputs": [
    {
     "name": "stdout",
     "output_type": "stream",
     "text": [
      "Der Staat trägt bei Visa-Erteilung in 83.44558667139313% der Verfahren keine Kosten.\n"
     ]
    }
   ],
   "source": [
    "no_cost = (df_final.query('visa_erteilt')['kosten_aa'] == 0).mean() * 100\n",
    "print(f'Der Staat trägt bei Visa-Erteilung in {no_cost}% der Verfahren keine Kosten.')"
   ]
  },
  {
   "cell_type": "code",
   "execution_count": 57,
   "metadata": {
    "colab": {
     "base_uri": "https://localhost:8080/"
    },
    "id": "p12V36az0PnX",
    "outputId": "75e40077-68ed-4812-f480-1eb6e09ea51c"
   },
   "outputs": [
    {
     "name": "stdout",
     "output_type": "stream",
     "text": [
      "Der Staat trägt bei Visa-Erteilung in 5.175469691598724% der Verfahren die Hälfte der Kosten.\n"
     ]
    }
   ],
   "source": [
    "some_cost = (df_final.query('visa_erteilt')['kosten_aa'] == 0.5).mean() * 100\n",
    "print(f'Der Staat trägt bei Visa-Erteilung in {some_cost}% der Verfahren die Hälfte der Kosten.')"
   ]
  },
  {
   "cell_type": "code",
   "execution_count": 58,
   "metadata": {
    "colab": {
     "base_uri": "https://localhost:8080/"
    },
    "id": "i6Y6-_ks0Pna",
    "outputId": "966bb186-5aee-4854-d462-29adb5a0fe5d"
   },
   "outputs": [
    {
     "name": "stdout",
     "output_type": "stream",
     "text": [
      "Der Staat trägt bei Visa-Erteilung in 11.378943637008152% der Verfahren die gesamten Kosten.\n"
     ]
    }
   ],
   "source": [
    "some_cost = (df_final.query('visa_erteilt')['kosten_aa'] == 1.0).mean() * 100\n",
    "print(f'Der Staat trägt bei Visa-Erteilung in {some_cost}% der Verfahren die gesamten Kosten.')"
   ]
  },
  {
   "cell_type": "code",
   "execution_count": 59,
   "metadata": {
    "colab": {
     "base_uri": "https://localhost:8080/"
    },
    "id": "k5OY2ikv0Pnb",
    "outputId": "cef7973e-133c-4b0e-f219-3c50bc37afea"
   },
   "outputs": [
    {
     "name": "stdout",
     "output_type": "stream",
     "text": [
      "Der Staat trägt bei keiner Visa-Erteilung in 97.06323044650884% der Verfahren keine Kosten.\n"
     ]
    }
   ],
   "source": [
    "no_cost = (df_final.query('~visa_erteilt')['kosten_aa'] == 0).mean() * 100\n",
    "print(f'Der Staat trägt bei keiner Visa-Erteilung in {no_cost}% der Verfahren keine Kosten.')"
   ]
  },
  {
   "cell_type": "code",
   "execution_count": 60,
   "metadata": {
    "colab": {
     "base_uri": "https://localhost:8080/"
    },
    "id": "i84Ac1ko0Pnc",
    "outputId": "d3acb45b-1abe-48db-87d6-170d7f778d0b"
   },
   "outputs": [
    {
     "name": "stdout",
     "output_type": "stream",
     "text": [
      "Der Staat trägt bei keiner Visa-Erteilung in 0.8790330636300071% der Verfahren die Hälfte der Kosten.\n"
     ]
    }
   ],
   "source": [
    "some_cost = (df_final.query('~visa_erteilt')['kosten_aa'] == 0.5).mean() * 100\n",
    "print(f'Der Staat trägt bei keiner Visa-Erteilung in {some_cost}% der Verfahren die Hälfte der Kosten.')"
   ]
  },
  {
   "cell_type": "code",
   "execution_count": 61,
   "metadata": {
    "colab": {
     "base_uri": "https://localhost:8080/"
    },
    "id": "N-Wlugih0Pne",
    "outputId": "c36dc8d9-2628-4b35-b46e-a81b576b1dd7"
   },
   "outputs": [
    {
     "name": "stdout",
     "output_type": "stream",
     "text": [
      "Der Staat trägt bei keiner Visa-Erteilung in 2.0577364898611528% der Verfahren die gesamten Kosten.\n"
     ]
    }
   ],
   "source": [
    "some_cost = (df_final.query('~visa_erteilt')['kosten_aa'] == 1.0).mean() * 100\n",
    "print(f'Der Staat trägt bei keiner Visa-Erteilung in {some_cost}% der Verfahren die gesamten Kosten.')"
   ]
  },
  {
   "cell_type": "code",
   "execution_count": 62,
   "metadata": {
    "colab": {
     "base_uri": "https://localhost:8080/"
    },
    "id": "HezaAjp8thMX",
    "outputId": "8d3fe7ef-c876-43ef-9bff-40699b3d2d28"
   },
   "outputs": [
    {
     "data": {
      "text/plain": [
       "690"
      ]
     },
     "execution_count": 62,
     "metadata": {},
     "output_type": "execute_result"
    }
   ],
   "source": [
    "(df_final.query('visa_mit_vergleich')['kosten_aa'] != 0.0).sum()"
   ]
  },
  {
   "cell_type": "code",
   "execution_count": 63,
   "metadata": {
    "colab": {
     "base_uri": "https://localhost:8080/"
    },
    "id": "GTxQuPGluiTd",
    "outputId": "14a5f8ff-73c9-4892-8617-45b5039c8242"
   },
   "outputs": [
    {
     "data": {
      "text/plain": [
       "0.0    5075\n",
       "1.0      39\n",
       "0.5      20\n",
       "Name: kosten_aa, dtype: int64"
      ]
     },
     "execution_count": 63,
     "metadata": {},
     "output_type": "execute_result"
    }
   ],
   "source": [
    "df.query('verfahrensausgang == \"C\"')['kosten_aa'].value_counts()"
   ]
  },
  {
   "cell_type": "markdown",
   "metadata": {
    "id": "G5bZGAv10Pnf"
   },
   "source": [
    "## Unterschiedliche Verfahrensausgänge über die Zeit"
   ]
  },
  {
   "cell_type": "code",
   "execution_count": 64,
   "metadata": {
    "colab": {
     "base_uri": "https://localhost:8080/",
     "height": 438
    },
    "id": "9wLAL56w0Pnf",
    "outputId": "1ffe9edc-c96e-4cfc-e666-ac01e055d713"
   },
   "outputs": [],
   "source": [
    "# year_outcomes = (\n",
    "#     df.groupby(['verfahrensausgang_datum', 'verfahrensausgang'])['VG AZ'].count()\n",
    "#         .unstack().resample('1A').sum()\n",
    "#         .stack().reset_index().rename(columns={0: 'count'})\n",
    "# )\n",
    "# year_outcomes['label'] = year_outcomes['verfahrensausgang'].map(AUSGANGS_MAPPING)\n",
    "\n",
    "# alt.Chart(year_outcomes).mark_line().encode(\n",
    "#     x='verfahrensausgang_datum',\n",
    "#     y='count',\n",
    "#     column='label'\n",
    "# )"
   ]
  },
  {
   "cell_type": "code",
   "execution_count": 65,
   "metadata": {
    "colab": {
     "base_uri": "https://localhost:8080/"
    },
    "id": "Ve_dMtxT0Png",
    "outputId": "d4845101-57ee-4025-fad8-9594beef1411"
   },
   "outputs": [
    {
     "name": "stderr",
     "output_type": "stream",
     "text": [
      "<ipython-input-65-94d99211bc15>:2: FutureWarning: Treating datetime data as categorical rather than numeric in `.describe` is deprecated and will be removed in a future version of pandas. Specify `datetime_is_numeric=True` to silence this warning and adopt the future behavior now.\n",
      "  last_date.describe()\n"
     ]
    },
    {
     "data": {
      "text/plain": [
       "count                   15643\n",
       "unique                   3386\n",
       "top       2009-02-11 00:00:00\n",
       "freq                       20\n",
       "first     2007-01-16 00:00:00\n",
       "last      2020-10-05 00:00:00\n",
       "dtype: object"
      ]
     },
     "execution_count": 65,
     "metadata": {},
     "output_type": "execute_result"
    }
   ],
   "source": [
    "last_date = df.apply(lambda x: x[['Statistk vom',  'Datum BVerwG_', 'Datum PKH_', 'Datum OVG_']].dropna().max(), 1)\n",
    "last_date.describe()"
   ]
  },
  {
   "cell_type": "markdown",
   "metadata": {
    "id": "I-yOCo1WV5Yl"
   },
   "source": [
    "## Wenn Visa erteilt wurde, was waren die Klagegründe ohne und mit Vergleich"
   ]
  },
  {
   "cell_type": "code",
   "execution_count": 66,
   "metadata": {
    "colab": {
     "base_uri": "https://localhost:8080/",
     "height": 206
    },
    "id": "gKtu_f378ROK",
    "outputId": "2cda5eeb-7971-4640-882c-7602b87ac838"
   },
   "outputs": [
    {
     "data": {
      "text/html": [
       "<div>\n",
       "<style scoped>\n",
       "    .dataframe tbody tr th:only-of-type {\n",
       "        vertical-align: middle;\n",
       "    }\n",
       "\n",
       "    .dataframe tbody tr th {\n",
       "        vertical-align: top;\n",
       "    }\n",
       "\n",
       "    .dataframe thead th {\n",
       "        text-align: right;\n",
       "    }\n",
       "</style>\n",
       "<table border=\"1\" class=\"dataframe\">\n",
       "  <thead>\n",
       "    <tr style=\"text-align: right;\">\n",
       "      <th>visa_mit_vergleich</th>\n",
       "      <th>False</th>\n",
       "      <th>True</th>\n",
       "      <th>sum</th>\n",
       "      <th>percent</th>\n",
       "    </tr>\n",
       "    <tr>\n",
       "      <th>Grund</th>\n",
       "      <th></th>\n",
       "      <th></th>\n",
       "      <th></th>\n",
       "      <th></th>\n",
       "    </tr>\n",
       "  </thead>\n",
       "  <tbody>\n",
       "    <tr>\n",
       "      <th>FZ-E</th>\n",
       "      <td>180</td>\n",
       "      <td>3594</td>\n",
       "      <td>3774</td>\n",
       "      <td>95.230525</td>\n",
       "    </tr>\n",
       "    <tr>\n",
       "      <th>FZ-E/K</th>\n",
       "      <td>20</td>\n",
       "      <td>594</td>\n",
       "      <td>614</td>\n",
       "      <td>96.742671</td>\n",
       "    </tr>\n",
       "    <tr>\n",
       "      <th>FZ-F</th>\n",
       "      <td>40</td>\n",
       "      <td>296</td>\n",
       "      <td>336</td>\n",
       "      <td>88.095238</td>\n",
       "    </tr>\n",
       "    <tr>\n",
       "      <th>FZ-K</th>\n",
       "      <td>55</td>\n",
       "      <td>863</td>\n",
       "      <td>918</td>\n",
       "      <td>94.008715</td>\n",
       "    </tr>\n",
       "  </tbody>\n",
       "</table>\n",
       "</div>"
      ],
      "text/plain": [
       "visa_mit_vergleich  False  True   sum    percent\n",
       "Grund                                           \n",
       "FZ-E                  180  3594  3774  95.230525\n",
       "FZ-E/K                 20   594   614  96.742671\n",
       "FZ-F                   40   296   336  88.095238\n",
       "FZ-K                   55   863   918  94.008715"
      ]
     },
     "execution_count": 66,
     "metadata": {},
     "output_type": "execute_result"
    }
   ],
   "source": [
    "df_erteilt_grund = df[df['visa_erteilt']].groupby(['Grund', 'visa_mit_vergleich']).size().unstack()\n",
    "df_erteilt_grund['sum'] = df_erteilt_grund.sum(axis=1)\n",
    "df_erteilt_grund['percent'] = df_erteilt_grund.apply(lambda x: x[True] / x['sum'] * 100, axis=1)\n",
    "df_erteilt_grund"
   ]
  },
  {
   "cell_type": "markdown",
   "metadata": {
    "id": "LvLtdf8bCveG"
   },
   "source": [
    "## Wie viele Verfahren pro Jahr?\n",
    "\n",
    "Plot nach Eingangsdatum"
   ]
  },
  {
   "cell_type": "code",
   "execution_count": 67,
   "metadata": {
    "colab": {
     "base_uri": "https://localhost:8080/",
     "height": 300
    },
    "id": "SHHPi-WIC4ly",
    "outputId": "812c0e4f-64f8-4551-f79f-dfd625ae0577"
   },
   "outputs": [
    {
     "data": {
      "text/plain": [
       "<matplotlib.axes._subplots.AxesSubplot at 0x117374f70>"
      ]
     },
     "execution_count": 67,
     "metadata": {},
     "output_type": "execute_result"
    },
    {
     "data": {
      "image/png": "[encoded data removed]",
      "text/plain": [
       "<Figure size 432x288 with 1 Axes>"
      ]
     },
     "metadata": {
      "needs_background": "light"
     },
     "output_type": "display_data"
    }
   ],
   "source": [
    "df['EingangsDatum'].groupby(df['EingangsDatum'].dt.year).size().plot()"
   ]
  },
  {
   "cell_type": "code",
   "execution_count": 68,
   "metadata": {
    "colab": {
     "base_uri": "https://localhost:8080/",
     "height": 296
    },
    "id": "gAaw1S4-NhaB",
    "outputId": "91ceddc5-6d93-4627-e32d-4b632ccc1f30"
   },
   "outputs": [
    {
     "data": {
      "text/plain": [
       "<matplotlib.axes._subplots.AxesSubplot at 0x1173666d0>"
      ]
     },
     "execution_count": 68,
     "metadata": {},
     "output_type": "execute_result"
    },
    {
     "data": {
      "image/png": "[encoded data removed]",
      "text/plain": [
       "<Figure size 432x288 with 1 Axes>"
      ]
     },
     "metadata": {
      "needs_background": "light"
     },
     "output_type": "display_data"
    }
   ],
   "source": [
    "df.query('visa_erteilt').groupby(df['EingangsDatum'].dt.year).size().plot()"
   ]
  },
  {
   "cell_type": "code",
   "execution_count": 69,
   "metadata": {
    "colab": {
     "base_uri": "https://localhost:8080/",
     "height": 296
    },
    "id": "PYqJYsqvDJLW",
    "outputId": "37018990-7c4d-449f-a5fc-808623c68741"
   },
   "outputs": [
    {
     "data": {
      "text/plain": [
       "<matplotlib.axes._subplots.AxesSubplot at 0x117401490>"
      ]
     },
     "execution_count": 69,
     "metadata": {},
     "output_type": "execute_result"
    },
    {
     "data": {
      "image/png": "[encoded data removed]",
      "text/plain": [
       "<Figure size 432x288 with 1 Axes>"
      ]
     },
     "metadata": {
      "needs_background": "light"
     },
     "output_type": "display_data"
    }
   ],
   "source": [
    "df.query('visa_mit_vergleich').groupby(df['EingangsDatum'].dt.year).size().plot()"
   ]
  },
  {
   "cell_type": "code",
   "execution_count": 70,
   "metadata": {
    "colab": {
     "base_uri": "https://localhost:8080/",
     "height": 296
    },
    "id": "BgHqDtPFDWNH",
    "outputId": "d279097b-7703-4d9e-a664-d21ae1f5df38"
   },
   "outputs": [
    {
     "data": {
      "text/plain": [
       "<matplotlib.axes._subplots.AxesSubplot at 0x116acf6a0>"
      ]
     },
     "execution_count": 70,
     "metadata": {},
     "output_type": "execute_result"
    },
    {
     "data": {
      "image/png": "[encoded data removed]",
      "text/plain": [
       "<Figure size 432x288 with 1 Axes>"
      ]
     },
     "metadata": {
      "needs_background": "light"
     },
     "output_type": "display_data"
    }
   ],
   "source": [
    "df.query('visa_ohne_vergleich').groupby(df['EingangsDatum'].dt.year).size().plot()"
   ]
  },
  {
   "cell_type": "code",
   "execution_count": 71,
   "metadata": {
    "colab": {
     "base_uri": "https://localhost:8080/",
     "height": 368
    },
    "id": "zqFemc8-Du3N",
    "outputId": "fc1c11b2-4df6-4dc1-a420-305ac36a796e"
   },
   "outputs": [],
   "source": [
    "# (\n",
    "#     alt.Chart(df.query('visa_erteilt'))\n",
    "#     .mark_bar(\n",
    "#         opacity=0.3,\n",
    "#         interpolate='step'\n",
    "#     ).encode(\n",
    "#         alt.X('year(EingangsDatum):T', bin=True),\n",
    "#         alt.Y('count():Q'),\n",
    "#         alt.Color('visa_mit_vergleich')\n",
    "#     )\n",
    "# )"
   ]
  },
  {
   "cell_type": "markdown",
   "metadata": {
    "id": "0MB5g2r1Pvee"
   },
   "source": [
    "## Nach Ländern"
   ]
  },
  {
   "cell_type": "code",
   "execution_count": 72,
   "metadata": {
    "colab": {
     "base_uri": "https://localhost:8080/"
    },
    "id": "zG2AiJYePyHV",
    "outputId": "36c1ed3f-cda9-43f2-935b-1f05d9cfe199"
   },
   "outputs": [
    {
     "data": {
      "text/plain": [
       "Turkey                               1094\n",
       "Kosovo                                402\n",
       "Syrian Arab Republic                  354\n",
       "Viet Nam                              328\n",
       "Morocco                               251\n",
       "Pakistan                              205\n",
       "Serbia                                192\n",
       "India                                 172\n",
       "Iraq                                  158\n",
       "Ukraine                               141\n",
       "North Macedonia                       122\n",
       "Afghanistan                           117\n",
       "Russian Federation                    108\n",
       "Tunisia                               108\n",
       "Iran, Islamic Republic of              88\n",
       "Ghana                                  88\n",
       "Bosnia and Herzegovina                 87\n",
       "Nigeria                                86\n",
       "Eritrea                                86\n",
       "Lebanon                                84\n",
       "Cameroon                               76\n",
       "Egypt                                  67\n",
       "Somalia                                55\n",
       "Ethiopia                               52\n",
       "Algeria                                48\n",
       "Thailand                               47\n",
       "Kenya                                  46\n",
       "Philippines                            46\n",
       "China                                  43\n",
       "Togo                                   38\n",
       "Bangladesh                             34\n",
       "Sri Lanka                              32\n",
       "Kazakhstan                             31\n",
       "Gambia                                 27\n",
       "Jordan                                 27\n",
       "Palestine, State of                    27\n",
       "Albania                                26\n",
       "Côte d'Ivoire                          24\n",
       "Armenia                                22\n",
       "Dominican Republic                     20\n",
       "Congo, Democratic Republic of the      17\n",
       "Belarus                                15\n",
       "Nepal                                  15\n",
       "Guinea                                 15\n",
       "Georgia                                13\n",
       "Peru                                   13\n",
       "Senegal                                13\n",
       "Cuba                                   11\n",
       "Uganda                                 11\n",
       "Azerbaijan                             11\n",
       "Name: country_name, dtype: int64"
      ]
     },
     "execution_count": 72,
     "metadata": {},
     "output_type": "execute_result"
    }
   ],
   "source": [
    "df.query('visa_mit_vergleich')['country_name'].value_counts()[:50]"
   ]
  },
  {
   "cell_type": "code",
   "execution_count": 73,
   "metadata": {
    "colab": {
     "base_uri": "https://localhost:8080/"
    },
    "id": "wPHTEcKSQBVf",
    "outputId": "b768db95-00d6-44b5-cbdb-ff9d708100c1"
   },
   "outputs": [
    {
     "data": {
      "text/plain": [
       "Turkey                               47\n",
       "Syrian Arab Republic                 23\n",
       "India                                22\n",
       "Kosovo                               17\n",
       "Viet Nam                             14\n",
       "Iraq                                 13\n",
       "Pakistan                             13\n",
       "Morocco                              12\n",
       "Serbia                                9\n",
       "Afghanistan                           8\n",
       "Nigeria                               8\n",
       "Algeria                               8\n",
       "Tunisia                               8\n",
       "Bosnia and Herzegovina                7\n",
       "Ghana                                 6\n",
       "Russian Federation                    6\n",
       "Kazakhstan                            5\n",
       "Ukraine                               5\n",
       "Cameroon                              4\n",
       "Somalia                               4\n",
       "North Macedonia                       4\n",
       "Egypt                                 4\n",
       "Philippines                           4\n",
       "Lebanon                               4\n",
       "Thailand                              3\n",
       "China                                 3\n",
       "Kenya                                 2\n",
       "Côte d'Ivoire                         2\n",
       "Iran, Islamic Republic of             2\n",
       "Niger                                 2\n",
       "Mongolia                              2\n",
       "Belarus                               2\n",
       "Togo                                  2\n",
       "Sudan                                 1\n",
       "Ecuador                               1\n",
       "Moldova, Republic of                  1\n",
       "Albania                               1\n",
       "Dominican Republic                    1\n",
       "Dominica                              1\n",
       "Congo, Democratic Republic of the     1\n",
       "Georgia                               1\n",
       "Eritrea                               1\n",
       "Yemen                                 1\n",
       "Gambia                                1\n",
       "Bangladesh                            1\n",
       "Myanmar                               1\n",
       "Uzbekistan                            1\n",
       "Azerbaijan                            1\n",
       "Sri Lanka                             1\n",
       "Cuba                                  1\n",
       "Name: country_name, dtype: int64"
      ]
     },
     "execution_count": 73,
     "metadata": {},
     "output_type": "execute_result"
    }
   ],
   "source": [
    "df.query('visa_ohne_vergleich')['country_name'].value_counts()[:50]"
   ]
  },
  {
   "cell_type": "markdown",
   "metadata": {
    "id": "hQJY61G8RIeo"
   },
   "source": [
    "## Klage zurückgezogen"
   ]
  },
  {
   "cell_type": "code",
   "execution_count": 74,
   "metadata": {
    "colab": {
     "base_uri": "https://localhost:8080/",
     "height": 296
    },
    "id": "mYJlK5g9RMd_",
    "outputId": "846b9f82-920f-4641-fb4f-7470f965703f"
   },
   "outputs": [
    {
     "data": {
      "text/plain": [
       "<matplotlib.axes._subplots.AxesSubplot at 0x116b2d730>"
      ]
     },
     "execution_count": 74,
     "metadata": {},
     "output_type": "execute_result"
    },
    {
     "data": {
      "image/png": "[encoded data removed]",
      "text/plain": [
       "<Figure size 432x288 with 1 Axes>"
      ]
     },
     "metadata": {
      "needs_background": "light"
     },
     "output_type": "display_data"
    }
   ],
   "source": [
    "df.query('verfahrensausgang == \"C\"').groupby(df['EingangsDatum'].dt.year).size().plot()"
   ]
  },
  {
   "cell_type": "markdown",
   "metadata": {
    "id": "H8ckOJ43U30t"
   },
   "source": [
    "## Visum erteilt, aber keine Kosten für's AA?"
   ]
  },
  {
   "cell_type": "code",
   "execution_count": 75,
   "metadata": {
    "colab": {
     "base_uri": "https://localhost:8080/"
    },
    "id": "QGBge2UtU3Bz",
    "outputId": "d724bde7-9758-4d1b-a37a-3f889a2891a5"
   },
   "outputs": [
    {
     "data": {
      "text/plain": [
       "D    4262\n",
       "G     395\n",
       "F      51\n",
       "Name: verfahrensausgang, dtype: int64"
      ]
     },
     "execution_count": 75,
     "metadata": {},
     "output_type": "execute_result"
    }
   ],
   "source": [
    "no_cost_aa = df.query('visa_erteilt and kosten_aa == 0')\n",
    "no_cost_aa['verfahrensausgang'].value_counts()"
   ]
  },
  {
   "cell_type": "code",
   "execution_count": 76,
   "metadata": {
    "colab": {
     "base_uri": "https://localhost:8080/"
    },
    "id": "qy6rSu6RVPqr",
    "outputId": "fd8f4aeb-0d93-4d50-ca38-40e4715efdab"
   },
   "outputs": [
    {
     "data": {
      "text/plain": [
       "FZ-E      3246\n",
       "FZ-K       724\n",
       "FZ-E/K     500\n",
       "FZ-F       238\n",
       "Name: Grund, dtype: int64"
      ]
     },
     "execution_count": 76,
     "metadata": {},
     "output_type": "execute_result"
    }
   ],
   "source": [
    "no_cost_aa['Grund'].value_counts()"
   ]
  },
  {
   "cell_type": "markdown",
   "metadata": {
    "id": "ax7-CEqQz_42"
   },
   "source": [
    "## Visa erteilt ohne Vergleich"
   ]
  },
  {
   "cell_type": "code",
   "execution_count": 77,
   "metadata": {
    "colab": {
     "base_uri": "https://localhost:8080/",
     "height": 446
    },
    "id": "gxjLihYb0Cgm",
    "outputId": "b0b8bbea-7650-4903-9c04-dc2ed477e7f1"
   },
   "outputs": [
    {
     "data": {
      "text/html": [
       "<div>\n",
       "<style scoped>\n",
       "    .dataframe tbody tr th:only-of-type {\n",
       "        vertical-align: middle;\n",
       "    }\n",
       "\n",
       "    .dataframe tbody tr th {\n",
       "        vertical-align: top;\n",
       "    }\n",
       "\n",
       "    .dataframe thead th {\n",
       "        text-align: right;\n",
       "    }\n",
       "</style>\n",
       "<table border=\"1\" class=\"dataframe\">\n",
       "  <thead>\n",
       "    <tr style=\"text-align: right;\">\n",
       "      <th></th>\n",
       "      <th>LFD_NR</th>\n",
       "      <th>VG AZ</th>\n",
       "      <th>EingangsDatum</th>\n",
       "      <th>country</th>\n",
       "      <th>Vertretung</th>\n",
       "      <th>Grund</th>\n",
       "      <th>_Zusatz</th>\n",
       "      <th>Statistik</th>\n",
       "      <th>Statistk vom</th>\n",
       "      <th>Gz_OVG</th>\n",
       "      <th>Ausgang OVG</th>\n",
       "      <th>Datum OVG_</th>\n",
       "      <th>Gz PKH Beschwerde</th>\n",
       "      <th>Ausgang PKH</th>\n",
       "      <th>Datum PKH_</th>\n",
       "      <th>...</th>\n",
       "      <th>verfahrensausgang_ovg</th>\n",
       "      <th>verfahrensausgang_bverwg</th>\n",
       "      <th>highest_instance</th>\n",
       "      <th>kosten_aa_vg</th>\n",
       "      <th>kosten_aa_ovg</th>\n",
       "      <th>kosten_aa_bverwg</th>\n",
       "      <th>verfahrensausgang</th>\n",
       "      <th>kosten_aa</th>\n",
       "      <th>verfahrensausgang_datum</th>\n",
       "      <th>duration</th>\n",
       "      <th>verfahrensausgang_previously_f</th>\n",
       "      <th>familie</th>\n",
       "      <th>visa_erteilt</th>\n",
       "      <th>visa_mit_vergleich</th>\n",
       "      <th>visa_ohne_vergleich</th>\n",
       "    </tr>\n",
       "  </thead>\n",
       "  <tbody>\n",
       "    <tr>\n",
       "      <th>94</th>\n",
       "      <td>25464</td>\n",
       "      <td>VG 35 V 3.07</td>\n",
       "      <td>2007-01-15</td>\n",
       "      <td>AFG</td>\n",
       "      <td>NaN</td>\n",
       "      <td>FZ-E</td>\n",
       "      <td>NaN</td>\n",
       "      <td>F</td>\n",
       "      <td>2007-10-29</td>\n",
       "      <td>NaN</td>\n",
       "      <td>NaN</td>\n",
       "      <td>NaT</td>\n",
       "      <td>NaN</td>\n",
       "      <td>NaN</td>\n",
       "      <td>NaT</td>\n",
       "      <td>...</td>\n",
       "      <td>NaN</td>\n",
       "      <td>NaN</td>\n",
       "      <td>vg</td>\n",
       "      <td>1.0</td>\n",
       "      <td>NaN</td>\n",
       "      <td>NaN</td>\n",
       "      <td>F</td>\n",
       "      <td>1.0</td>\n",
       "      <td>2007-10-29</td>\n",
       "      <td>287.0</td>\n",
       "      <td>True</td>\n",
       "      <td>True</td>\n",
       "      <td>True</td>\n",
       "      <td>False</td>\n",
       "      <td>True</td>\n",
       "    </tr>\n",
       "    <tr>\n",
       "      <th>243</th>\n",
       "      <td>25613</td>\n",
       "      <td>VG 7 V 21.07</td>\n",
       "      <td>2007-01-30</td>\n",
       "      <td>TUR</td>\n",
       "      <td>NaN</td>\n",
       "      <td>FZ-K</td>\n",
       "      <td>NaN</td>\n",
       "      <td>F</td>\n",
       "      <td>2008-04-10</td>\n",
       "      <td>NaN</td>\n",
       "      <td>NaN</td>\n",
       "      <td>NaT</td>\n",
       "      <td>NaN</td>\n",
       "      <td>NaN</td>\n",
       "      <td>NaT</td>\n",
       "      <td>...</td>\n",
       "      <td>NaN</td>\n",
       "      <td>NaN</td>\n",
       "      <td>vg</td>\n",
       "      <td>1.0</td>\n",
       "      <td>NaN</td>\n",
       "      <td>NaN</td>\n",
       "      <td>F</td>\n",
       "      <td>1.0</td>\n",
       "      <td>2008-04-10</td>\n",
       "      <td>436.0</td>\n",
       "      <td>True</td>\n",
       "      <td>True</td>\n",
       "      <td>True</td>\n",
       "      <td>False</td>\n",
       "      <td>True</td>\n",
       "    </tr>\n",
       "    <tr>\n",
       "      <th>281</th>\n",
       "      <td>25651</td>\n",
       "      <td>VG 14 V 1.07</td>\n",
       "      <td>2007-02-08</td>\n",
       "      <td>GHA</td>\n",
       "      <td>NaN</td>\n",
       "      <td>FZ-K</td>\n",
       "      <td>NaN</td>\n",
       "      <td>F</td>\n",
       "      <td>2008-01-09</td>\n",
       "      <td>NaN</td>\n",
       "      <td>NaN</td>\n",
       "      <td>NaT</td>\n",
       "      <td>NaN</td>\n",
       "      <td>NaN</td>\n",
       "      <td>NaT</td>\n",
       "      <td>...</td>\n",
       "      <td>NaN</td>\n",
       "      <td>NaN</td>\n",
       "      <td>vg</td>\n",
       "      <td>1.0</td>\n",
       "      <td>NaN</td>\n",
       "      <td>NaN</td>\n",
       "      <td>F</td>\n",
       "      <td>1.0</td>\n",
       "      <td>2008-01-09</td>\n",
       "      <td>335.0</td>\n",
       "      <td>True</td>\n",
       "      <td>True</td>\n",
       "      <td>True</td>\n",
       "      <td>False</td>\n",
       "      <td>True</td>\n",
       "    </tr>\n",
       "    <tr>\n",
       "      <th>303</th>\n",
       "      <td>25673</td>\n",
       "      <td>VG 15 V 5.07</td>\n",
       "      <td>2007-02-08</td>\n",
       "      <td>TUR</td>\n",
       "      <td>NaN</td>\n",
       "      <td>FZ-E</td>\n",
       "      <td>NaN</td>\n",
       "      <td>F</td>\n",
       "      <td>2007-07-26</td>\n",
       "      <td>NaN</td>\n",
       "      <td>NaN</td>\n",
       "      <td>NaT</td>\n",
       "      <td>NaN</td>\n",
       "      <td>NaN</td>\n",
       "      <td>NaT</td>\n",
       "      <td>...</td>\n",
       "      <td>NaN</td>\n",
       "      <td>NaN</td>\n",
       "      <td>vg</td>\n",
       "      <td>1.0</td>\n",
       "      <td>NaN</td>\n",
       "      <td>NaN</td>\n",
       "      <td>F</td>\n",
       "      <td>1.0</td>\n",
       "      <td>2007-07-26</td>\n",
       "      <td>168.0</td>\n",
       "      <td>True</td>\n",
       "      <td>True</td>\n",
       "      <td>True</td>\n",
       "      <td>False</td>\n",
       "      <td>True</td>\n",
       "    </tr>\n",
       "    <tr>\n",
       "      <th>402</th>\n",
       "      <td>25772</td>\n",
       "      <td>VG 26 V 10.07</td>\n",
       "      <td>2007-02-23</td>\n",
       "      <td>SRB</td>\n",
       "      <td>NaN</td>\n",
       "      <td>FZ-E</td>\n",
       "      <td>NaN</td>\n",
       "      <td>F</td>\n",
       "      <td>2007-11-23</td>\n",
       "      <td>NaN</td>\n",
       "      <td>NaN</td>\n",
       "      <td>NaT</td>\n",
       "      <td>NaN</td>\n",
       "      <td>NaN</td>\n",
       "      <td>NaT</td>\n",
       "      <td>...</td>\n",
       "      <td>NaN</td>\n",
       "      <td>NaN</td>\n",
       "      <td>vg</td>\n",
       "      <td>1.0</td>\n",
       "      <td>NaN</td>\n",
       "      <td>NaN</td>\n",
       "      <td>F</td>\n",
       "      <td>1.0</td>\n",
       "      <td>2007-11-23</td>\n",
       "      <td>273.0</td>\n",
       "      <td>True</td>\n",
       "      <td>True</td>\n",
       "      <td>True</td>\n",
       "      <td>False</td>\n",
       "      <td>True</td>\n",
       "    </tr>\n",
       "  </tbody>\n",
       "</table>\n",
       "<p>5 rows × 35 columns</p>\n",
       "</div>"
      ],
      "text/plain": [
       "     LFD_NR          VG AZ EingangsDatum country Vertretung Grund _Zusatz  \\\n",
       "94    25464   VG 35 V 3.07    2007-01-15     AFG        NaN  FZ-E     NaN   \n",
       "243   25613   VG 7 V 21.07    2007-01-30     TUR        NaN  FZ-K     NaN   \n",
       "281   25651   VG 14 V 1.07    2007-02-08     GHA        NaN  FZ-K     NaN   \n",
       "303   25673   VG 15 V 5.07    2007-02-08     TUR        NaN  FZ-E     NaN   \n",
       "402   25772  VG 26 V 10.07    2007-02-23     SRB        NaN  FZ-E     NaN   \n",
       "\n",
       "    Statistik Statistk vom Gz_OVG Ausgang OVG Datum OVG_ Gz PKH Beschwerde  \\\n",
       "94          F   2007-10-29    NaN         NaN        NaT               NaN   \n",
       "243         F   2008-04-10    NaN         NaN        NaT               NaN   \n",
       "281         F   2008-01-09    NaN         NaN        NaT               NaN   \n",
       "303         F   2007-07-26    NaN         NaN        NaT               NaN   \n",
       "402         F   2007-11-23    NaN         NaN        NaT               NaN   \n",
       "\n",
       "    Ausgang PKH Datum PKH_  ... verfahrensausgang_ovg  \\\n",
       "94          NaN        NaT  ...                   NaN   \n",
       "243         NaN        NaT  ...                   NaN   \n",
       "281         NaN        NaT  ...                   NaN   \n",
       "303         NaN        NaT  ...                   NaN   \n",
       "402         NaN        NaT  ...                   NaN   \n",
       "\n",
       "    verfahrensausgang_bverwg highest_instance kosten_aa_vg kosten_aa_ovg  \\\n",
       "94                       NaN               vg          1.0           NaN   \n",
       "243                      NaN               vg          1.0           NaN   \n",
       "281                      NaN               vg          1.0           NaN   \n",
       "303                      NaN               vg          1.0           NaN   \n",
       "402                      NaN               vg          1.0           NaN   \n",
       "\n",
       "    kosten_aa_bverwg verfahrensausgang kosten_aa  verfahrensausgang_datum  \\\n",
       "94               NaN                 F       1.0               2007-10-29   \n",
       "243              NaN                 F       1.0               2008-04-10   \n",
       "281              NaN                 F       1.0               2008-01-09   \n",
       "303              NaN                 F       1.0               2007-07-26   \n",
       "402              NaN                 F       1.0               2007-11-23   \n",
       "\n",
       "     duration  verfahrensausgang_previously_f familie  visa_erteilt  \\\n",
       "94      287.0                            True    True          True   \n",
       "243     436.0                            True    True          True   \n",
       "281     335.0                            True    True          True   \n",
       "303     168.0                            True    True          True   \n",
       "402     273.0                            True    True          True   \n",
       "\n",
       "    visa_mit_vergleich  visa_ohne_vergleich  \n",
       "94               False                 True  \n",
       "243              False                 True  \n",
       "281              False                 True  \n",
       "303              False                 True  \n",
       "402              False                 True  \n",
       "\n",
       "[5 rows x 35 columns]"
      ]
     },
     "execution_count": 77,
     "metadata": {},
     "output_type": "execute_result"
    }
   ],
   "source": [
    "df_visa_ohne_vergleich = df.query('visa_erteilt and visa_ohne_vergleich')\n",
    "df_visa_ohne_vergleich.head()"
   ]
  },
  {
   "cell_type": "code",
   "execution_count": 78,
   "metadata": {
    "colab": {
     "base_uri": "https://localhost:8080/"
    },
    "id": "lSUc5hoD0bvT",
    "outputId": "c91e1a9c-1d15-4d07-b4ed-0d1a9a05d143"
   },
   "outputs": [
    {
     "data": {
      "text/plain": [
       "1.0    0.776271\n",
       "0.0    0.172881\n",
       "0.5    0.050847\n",
       "Name: kosten_aa, dtype: float64"
      ]
     },
     "execution_count": 78,
     "metadata": {},
     "output_type": "execute_result"
    }
   ],
   "source": [
    "df_visa_ohne_vergleich['kosten_aa'].value_counts(normalize=True)"
   ]
  },
  {
   "cell_type": "code",
   "execution_count": 79,
   "metadata": {
    "colab": {
     "base_uri": "https://localhost:8080/"
    },
    "id": "P2A8kfZSzHj5",
    "outputId": "f5a08f24-9102-436e-a9b6-702babc5ef0e"
   },
   "outputs": [
    {
     "data": {
      "text/plain": [
       "C    5134\n",
       "D    4358\n",
       "A    3919\n",
       "G     989\n",
       "J     886\n",
       "F     295\n",
       "E      31\n",
       "K      26\n",
       "I       8\n",
       "B       7\n",
       "Name: verfahrensausgang, dtype: int64"
      ]
     },
     "execution_count": 79,
     "metadata": {},
     "output_type": "execute_result"
    }
   ],
   "source": [
    "df_final['verfahrensausgang'].value_counts()"
   ]
  },
  {
   "cell_type": "code",
   "execution_count": 80,
   "metadata": {
    "colab": {
     "base_uri": "https://localhost:8080/"
    },
    "id": "c770KjmS5Hoa",
    "outputId": "6729a2e1-b3e0-4ff5-ee61-13b8cf4ea795"
   },
   "outputs": [
    {
     "data": {
      "text/plain": [
       "False    958\n",
       "Name: visa_erteilt, dtype: int64"
      ]
     },
     "execution_count": 80,
     "metadata": {},
     "output_type": "execute_result"
    }
   ],
   "source": [
    "df_final[df_final['verfahrensausgang'].isin(['B','I','K','E','J'])]['visa_erteilt'].value_counts()"
   ]
  },
  {
   "cell_type": "code",
   "execution_count": 81,
   "metadata": {
    "colab": {
     "base_uri": "https://localhost:8080/"
    },
    "id": "8Wi2DQKa5uwz",
    "outputId": "f2957b74-185c-4633-c780-c7a0130bdbcb"
   },
   "outputs": [
    {
     "data": {
      "text/plain": [
       "0.0    9717\n",
       "1.0     206\n",
       "0.5      88\n",
       "Name: kosten_aa, dtype: int64"
      ]
     },
     "execution_count": 81,
     "metadata": {},
     "output_type": "execute_result"
    }
   ],
   "source": [
    "df_final[~df_final['visa_erteilt']]['kosten_aa'].value_counts()"
   ]
  },
  {
   "cell_type": "markdown",
   "metadata": {},
   "source": [
    "## Export cleaned CSV"
   ]
  },
  {
   "cell_type": "code",
   "execution_count": 82,
   "metadata": {},
   "outputs": [],
   "source": [
    "df.to_csv('cleaned.csv', index=False)"
   ]
  }
 ],
 "metadata": {
  "colab": {
   "collapsed_sections": [
    "MgVeEgnj0PmN",
    "knTVZ4nH0PnR",
    "EGLjNuYy0PnT",
    "bLxfjEdw0PnW",
    "G5bZGAv10Pnf",
    "I-yOCo1WV5Yl",
    "LvLtdf8bCveG",
    "0MB5g2r1Pvee",
    "hQJY61G8RIeo",
    "H8ckOJ43U30t"
   ],
   "name": "analysis.ipynb",
   "provenance": []
  },
  "kernelspec": {
   "display_name": "Python 3",
   "language": "python",
   "name": "python3"
  },
  "language_info": {
   "codemirror_mode": {
    "name": "ipython",
    "version": 3
   },
   "file_extension": ".py",
   "mimetype": "text/x-python",
   "name": "python",
   "nbconvert_exporter": "python",
   "pygments_lexer": "ipython3",
   "version": "3.8.2"
  }
 },
 "nbformat": 4,
 "nbformat_minor": 4
}
